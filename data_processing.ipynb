{
 "cells": [
  {
   "cell_type": "code",
   "execution_count": 1,
   "id": "ee402f3e",
   "metadata": {},
   "outputs": [
    {
     "name": "stderr",
     "output_type": "stream",
     "text": [
      "2022-12-08 19:03:10.419095: I tensorflow/core/platform/cpu_feature_guard.cc:193] This TensorFlow binary is optimized with oneAPI Deep Neural Network Library (oneDNN) to use the following CPU instructions in performance-critical operations:  AVX2 FMA\n",
      "To enable them in other operations, rebuild TensorFlow with the appropriate compiler flags.\n"
     ]
    }
   ],
   "source": [
    "import keras\n",
    "import pandas as pd\n",
    "from keras.models import Sequential\n",
    "from keras.layers import Dense , Flatten ,Embedding,Input\n",
    "from keras.models import Model\n",
    "import os\n",
    "import tensorflow as tf\n",
    "from tensorflow.keras import layers\n",
    "import numpy as np\n",
    "import random"
   ]
  },
  {
   "cell_type": "code",
   "execution_count": 2,
   "id": "2efea2cb",
   "metadata": {},
   "outputs": [],
   "source": [
    "tf.config.run_functions_eagerly(True)\n",
    "def set_seeds(seed=1299827):\n",
    "    os.environ['PYTHONHASHSEED'] = str(seed)\n",
    "    random.seed(seed)\n",
    "    tf.random.set_seed(seed)\n",
    "    np.random.seed(seed)"
   ]
  },
  {
   "cell_type": "markdown",
   "id": "fcfdeda4",
   "metadata": {},
   "source": [
    "## 1. encode user info"
   ]
  },
  {
   "cell_type": "code",
   "execution_count": 3,
   "id": "3f72912d",
   "metadata": {
    "scrolled": true
   },
   "outputs": [
    {
     "name": "stderr",
     "output_type": "stream",
     "text": [
      "/Users/jamee/miniconda3/envs/Transformer/lib/python3.9/site-packages/IPython/core/interactiveshell.py:3457: FutureWarning: In a future version of pandas all arguments of read_csv except for the argument 'filepath_or_buffer' will be keyword-only.\n",
      "  exec(code_obj, self.user_global_ns, self.user_ns)\n"
     ]
    }
   ],
   "source": [
    "names = ['occupations']\n",
    "data_dir = \"./data/ml-100k\"\n",
    "occupations = pd.read_csv(os.path.join(data_dir, 'u.occupation'), '\\t', names=names,\n",
    "                       engine='python')"
   ]
  },
  {
   "cell_type": "code",
   "execution_count": 4,
   "id": "ee39b5f7",
   "metadata": {},
   "outputs": [
    {
     "name": "stderr",
     "output_type": "stream",
     "text": [
      "/Users/jamee/miniconda3/envs/Transformer/lib/python3.9/site-packages/IPython/core/interactiveshell.py:3457: FutureWarning: In a future version of pandas all arguments of read_csv except for the argument 'filepath_or_buffer' will be keyword-only.\n",
      "  exec(code_obj, self.user_global_ns, self.user_ns)\n"
     ]
    }
   ],
   "source": [
    "names = ['user_id', 'age', 'gender', 'occupation', 'zip_code']\n",
    "data_dir = \"./data/ml-100k\"\n",
    "user_info = pd.read_csv(os.path.join(data_dir, 'u.user'), '|', names=names,\n",
    "                       engine='python')\n",
    "\n"
   ]
  },
  {
   "cell_type": "code",
   "execution_count": 5,
   "id": "5e5554a4",
   "metadata": {},
   "outputs": [],
   "source": [
    "def df_to_dataset(dataframe, shuffle=True, batch_size=32):\n",
    "    df = dataframe.copy()\n",
    "    df = {key: value[:,tf.newaxis] for key, value in dataframe.items()}\n",
    "    ds = tf.data.Dataset.from_tensor_slices((dict(df)))\n",
    "    if shuffle:\n",
    "        ds = ds.shuffle(buffer_size=len(dataframe))\n",
    "        ds = ds.batch(batch_size)\n",
    "        ds = ds.prefetch(batch_size)\n",
    "    return ds\n",
    "\n",
    "def get_normalization_layer(name, dataset):\n",
    "    # Create a Normalization layer for the feature.\n",
    "    normalizer = layers.Normalization(axis=None)\n",
    "\n",
    "    # Prepare a Dataset that only yields the feature.\n",
    "    feature_ds = dataset.map(lambda x, y: x[name])\n",
    "\n",
    "    # Learn the statistics of the data.\n",
    "    normalizer.adapt(feature_ds)\n",
    "\n",
    "    return normalizer"
   ]
  },
  {
   "cell_type": "code",
   "execution_count": 6,
   "id": "0f6e2837",
   "metadata": {},
   "outputs": [],
   "source": [
    "user_info.drop(columns=['user_id'], inplace=True)\n",
    "gender = {'M': 0, 'F': 1}\n",
    "user_info['gender'] = user_info['gender'].apply(lambda x: gender[x])"
   ]
  },
  {
   "cell_type": "code",
   "execution_count": 7,
   "id": "1a9bb631",
   "metadata": {},
   "outputs": [],
   "source": [
    "def stack_dict(inputs, fun=tf.stack):\n",
    "    values = []\n",
    "    for key in sorted(inputs.keys()):\n",
    "        values.append(tf.cast(inputs[key], tf.float32))\n",
    "\n",
    "    return fun(values, axis=-1)"
   ]
  },
  {
   "cell_type": "code",
   "execution_count": 8,
   "id": "024d107d",
   "metadata": {},
   "outputs": [],
   "source": [
    "binary_feature_names = ['gender']\n",
    "categorical_feature_names = ['occupation', 'zip_code']\n",
    "numeric_features = user_info[['age']]\n",
    "\n",
    "inputs = {}\n",
    "for name, column in user_info.items():\n",
    "#     if type(column[0]) == str:\n",
    "#         dtype = tf.string\n",
    "    if (name in categorical_feature_names or\n",
    "        name in binary_feature_names):\n",
    "        dtype = tf.int64\n",
    "    else:\n",
    "        dtype = tf.float32\n",
    "\n",
    "    inputs[name] = tf.keras.Input(shape=(), name=name, dtype=dtype)\n"
   ]
  },
  {
   "cell_type": "code",
   "execution_count": 9,
   "id": "a2a4d2cf",
   "metadata": {},
   "outputs": [
    {
     "name": "stderr",
     "output_type": "stream",
     "text": [
      "2022-12-08 19:03:19.052533: I tensorflow/core/platform/cpu_feature_guard.cc:193] This TensorFlow binary is optimized with oneAPI Deep Neural Network Library (oneDNN) to use the following CPU instructions in performance-critical operations:  AVX2 FMA\n",
      "To enable them in other operations, rebuild TensorFlow with the appropriate compiler flags.\n"
     ]
    }
   ],
   "source": [
    "preprocessed = []\n",
    "\n",
    "for name in binary_feature_names:\n",
    "    inp = inputs[name]\n",
    "    inp = inp[:, tf.newaxis]\n",
    "    float_value = tf.cast(inp, tf.float32)\n",
    "    preprocessed.append(float_value)"
   ]
  },
  {
   "cell_type": "code",
   "execution_count": 10,
   "id": "2696e6dd",
   "metadata": {
    "scrolled": false
   },
   "outputs": [
    {
     "name": "stderr",
     "output_type": "stream",
     "text": [
      "/Users/jamee/miniconda3/envs/Transformer/lib/python3.9/site-packages/tensorflow/python/data/ops/structured_function.py:256: UserWarning: Even though the `tf.config.experimental_run_functions_eagerly` option is set, this option does not apply to tf.data functions. To force eager execution of tf.data functions, please use `tf.data.experimental.enable_debug_mode()`.\n",
      "  warnings.warn(\n"
     ]
    }
   ],
   "source": [
    "normalizer = tf.keras.layers.Normalization(axis=-1)\n",
    "normalizer.adapt(stack_dict(dict(numeric_features)))"
   ]
  },
  {
   "cell_type": "code",
   "execution_count": 11,
   "id": "e845bfa2",
   "metadata": {},
   "outputs": [],
   "source": [
    "users = tf.convert_to_tensor(user_info['gender'].values, dtype=tf.float32)"
   ]
  },
  {
   "cell_type": "code",
   "execution_count": 12,
   "id": "c0a35621",
   "metadata": {},
   "outputs": [],
   "source": [
    "users = tf.concat((users[:, tf.newaxis], tf.squeeze(normalizer(user_info['age'].values))[:, tf.newaxis]), axis=1)"
   ]
  },
  {
   "cell_type": "code",
   "execution_count": 13,
   "id": "ee3b8797",
   "metadata": {},
   "outputs": [],
   "source": [
    "numeric_inputs = {}\n",
    "for name in ['age']:\n",
    "    numeric_inputs[name]=inputs[name]\n",
    "\n",
    "numeric_inputs = stack_dict(numeric_inputs)\n",
    "numeric_normalized = normalizer(numeric_inputs)\n",
    "\n",
    "preprocessed.append(numeric_normalized)"
   ]
  },
  {
   "cell_type": "code",
   "execution_count": 14,
   "id": "c06dc01d",
   "metadata": {
    "scrolled": true
   },
   "outputs": [
    {
     "name": "stdout",
     "output_type": "stream",
     "text": [
      "name: occupation\n",
      "name: zip_code\n"
     ]
    },
    {
     "name": "stderr",
     "output_type": "stream",
     "text": [
      "/Users/jamee/miniconda3/envs/Transformer/lib/python3.9/site-packages/numpy/core/numeric.py:2446: FutureWarning: elementwise comparison failed; returning scalar instead, but in the future will perform elementwise comparison\n",
      "  return bool(asarray(a1 == a2).all())\n"
     ]
    }
   ],
   "source": [
    "for name in categorical_feature_names:\n",
    "    vocab = sorted(set(user_info[name]))\n",
    "    print(f'name: {name}')\n",
    "#     print(f'vocab: {vocab}\\n')\n",
    "\n",
    "    if type(vocab[0]) is str:\n",
    "        lookup = tf.keras.layers.StringLookup(vocabulary=vocab, output_mode='one_hot', num_oov_indices=0)\n",
    "    else:\n",
    "        lookup = tf.keras.layers.IntegerLookup(vocabulary=vocab, output_mode='one_hot', num_oov_indices=0)\n",
    "\n",
    "    x = lookup(user_info[name].values)\n",
    "    users = tf.concat((users, x), axis=1)"
   ]
  },
  {
   "cell_type": "code",
   "execution_count": 15,
   "id": "ba39747c",
   "metadata": {},
   "outputs": [],
   "source": [
    "encoding_dim = 32\n",
    "user_input = keras.Input(shape=(818,))\n",
    "# \"encoded\" is the encoded representation of the input\n",
    "encoded = layers.Dense(128, activation='relu')(user_input)\n",
    "encoded = layers.Dense(64, activation='relu')(encoded)\n",
    "encoded = layers.Dense(32, activation='relu')(encoded)\n",
    "# \"decoded\" is the lossy reconstruction of the input\n",
    "decoded = layers.Dense(64, activation='relu')(encoded)\n",
    "decoded = layers.Dense(128, activation='relu')(decoded)\n",
    "decoded = layers.Dense(818)(decoded)\n",
    "\n",
    "user_autoencoder = keras.Model(user_input, decoded)\n",
    "user_autoencoder.compile(optimizer='adam', loss='mse')\n",
    "\n",
    "user_encoder = keras.Model(user_input, encoded)\n",
    "\n",
    "# This is our encoded (32-dimensional) input\n",
    "encoded_input = keras.Input(shape=(encoding_dim,))\n",
    "# Retrieve the last layer of the autoencoder model\n",
    "decoder_output = user_autoencoder.layers[-3](encoded_input)\n",
    "decoder_output = user_autoencoder.layers[-2](decoder_output)\n",
    "decoder_output = user_autoencoder.layers[-1](decoder_output)\n",
    "\n",
    "# Create the decoder model\n",
    "user_decoder = keras.Model(encoded_input, decoder_output)"
   ]
  },
  {
   "cell_type": "code",
   "execution_count": 16,
   "id": "8bebb968",
   "metadata": {},
   "outputs": [],
   "source": [
    "user_autoencoder.compile(optimizer='adam', loss='mse')"
   ]
  },
  {
   "cell_type": "code",
   "execution_count": 17,
   "id": "f7d84b95",
   "metadata": {},
   "outputs": [
    {
     "name": "stdout",
     "output_type": "stream",
     "text": [
      "Epoch 1/100\n",
      "4/4 [==============================] - 0s 47ms/step - loss: 0.0040\n",
      "Epoch 2/100\n",
      "4/4 [==============================] - 0s 58ms/step - loss: 0.0040\n",
      "Epoch 3/100\n",
      "4/4 [==============================] - 0s 49ms/step - loss: 0.0040\n",
      "Epoch 4/100\n",
      "4/4 [==============================] - 0s 48ms/step - loss: 0.0039\n",
      "Epoch 5/100\n",
      "4/4 [==============================] - 0s 50ms/step - loss: 0.0039\n",
      "Epoch 6/100\n",
      "4/4 [==============================] - 0s 49ms/step - loss: 0.0038\n",
      "Epoch 7/100\n",
      "4/4 [==============================] - 0s 48ms/step - loss: 0.0037\n",
      "Epoch 8/100\n",
      "4/4 [==============================] - 0s 51ms/step - loss: 0.0035\n",
      "Epoch 9/100\n",
      "4/4 [==============================] - 0s 47ms/step - loss: 0.0033\n",
      "Epoch 10/100\n",
      "4/4 [==============================] - 0s 44ms/step - loss: 0.0030\n",
      "Epoch 11/100\n",
      "4/4 [==============================] - 0s 46ms/step - loss: 0.0028\n",
      "Epoch 12/100\n",
      "4/4 [==============================] - 0s 45ms/step - loss: 0.0027\n",
      "Epoch 13/100\n",
      "4/4 [==============================] - 0s 45ms/step - loss: 0.0026\n",
      "Epoch 14/100\n",
      "4/4 [==============================] - 0s 44ms/step - loss: 0.0025\n",
      "Epoch 15/100\n",
      "4/4 [==============================] - 0s 45ms/step - loss: 0.0025\n",
      "Epoch 16/100\n",
      "4/4 [==============================] - 0s 44ms/step - loss: 0.0024\n",
      "Epoch 17/100\n",
      "4/4 [==============================] - 0s 45ms/step - loss: 0.0024\n",
      "Epoch 18/100\n",
      "4/4 [==============================] - 0s 44ms/step - loss: 0.0024\n",
      "Epoch 19/100\n",
      "4/4 [==============================] - 0s 46ms/step - loss: 0.0023\n",
      "Epoch 20/100\n",
      "4/4 [==============================] - 0s 46ms/step - loss: 0.0023\n",
      "Epoch 21/100\n",
      "4/4 [==============================] - 0s 54ms/step - loss: 0.0023\n",
      "Epoch 22/100\n",
      "4/4 [==============================] - 0s 55ms/step - loss: 0.0022\n",
      "Epoch 23/100\n",
      "4/4 [==============================] - 0s 51ms/step - loss: 0.0022\n",
      "Epoch 24/100\n",
      "4/4 [==============================] - 0s 58ms/step - loss: 0.0022\n",
      "Epoch 25/100\n",
      "4/4 [==============================] - 0s 61ms/step - loss: 0.0021\n",
      "Epoch 26/100\n",
      "4/4 [==============================] - 0s 50ms/step - loss: 0.0021\n",
      "Epoch 27/100\n",
      "4/4 [==============================] - 0s 57ms/step - loss: 0.0021\n",
      "Epoch 28/100\n",
      "4/4 [==============================] - 0s 61ms/step - loss: 0.0021\n",
      "Epoch 29/100\n",
      "4/4 [==============================] - 0s 45ms/step - loss: 0.0020\n",
      "Epoch 30/100\n",
      "4/4 [==============================] - 0s 45ms/step - loss: 0.0020\n",
      "Epoch 31/100\n",
      "4/4 [==============================] - 0s 57ms/step - loss: 0.0020\n",
      "Epoch 32/100\n",
      "4/4 [==============================] - 0s 48ms/step - loss: 0.0020\n",
      "Epoch 33/100\n",
      "4/4 [==============================] - 0s 44ms/step - loss: 0.0019\n",
      "Epoch 34/100\n",
      "4/4 [==============================] - 0s 44ms/step - loss: 0.0019\n",
      "Epoch 35/100\n",
      "4/4 [==============================] - 0s 45ms/step - loss: 0.0019\n",
      "Epoch 36/100\n",
      "4/4 [==============================] - 0s 47ms/step - loss: 0.0019\n",
      "Epoch 37/100\n",
      "4/4 [==============================] - 0s 46ms/step - loss: 0.0018\n",
      "Epoch 38/100\n",
      "4/4 [==============================] - 0s 45ms/step - loss: 0.0018\n",
      "Epoch 39/100\n",
      "4/4 [==============================] - 0s 44ms/step - loss: 0.0018\n",
      "Epoch 40/100\n",
      "4/4 [==============================] - 0s 45ms/step - loss: 0.0018\n",
      "Epoch 41/100\n",
      "4/4 [==============================] - 0s 45ms/step - loss: 0.0018\n",
      "Epoch 42/100\n",
      "4/4 [==============================] - 0s 45ms/step - loss: 0.0018\n",
      "Epoch 43/100\n",
      "4/4 [==============================] - 0s 45ms/step - loss: 0.0017\n",
      "Epoch 44/100\n",
      "4/4 [==============================] - 0s 45ms/step - loss: 0.0017\n",
      "Epoch 45/100\n",
      "4/4 [==============================] - 0s 45ms/step - loss: 0.0017\n",
      "Epoch 46/100\n",
      "4/4 [==============================] - 0s 46ms/step - loss: 0.0017\n",
      "Epoch 47/100\n",
      "4/4 [==============================] - 0s 45ms/step - loss: 0.0017\n",
      "Epoch 48/100\n",
      "4/4 [==============================] - 0s 45ms/step - loss: 0.0017\n",
      "Epoch 49/100\n",
      "4/4 [==============================] - 0s 46ms/step - loss: 0.0016\n",
      "Epoch 50/100\n",
      "4/4 [==============================] - 0s 45ms/step - loss: 0.0016\n",
      "Epoch 51/100\n",
      "4/4 [==============================] - 0s 45ms/step - loss: 0.0016\n",
      "Epoch 52/100\n",
      "4/4 [==============================] - 0s 44ms/step - loss: 0.0016\n",
      "Epoch 53/100\n",
      "4/4 [==============================] - 0s 52ms/step - loss: 0.0016\n",
      "Epoch 54/100\n",
      "4/4 [==============================] - 0s 45ms/step - loss: 0.0016\n",
      "Epoch 55/100\n",
      "4/4 [==============================] - 0s 44ms/step - loss: 0.0016\n",
      "Epoch 56/100\n",
      "4/4 [==============================] - 0s 52ms/step - loss: 0.0015\n",
      "Epoch 57/100\n",
      "4/4 [==============================] - 0s 65ms/step - loss: 0.0015\n",
      "Epoch 58/100\n",
      "4/4 [==============================] - 0s 47ms/step - loss: 0.0015\n",
      "Epoch 59/100\n",
      "4/4 [==============================] - 0s 56ms/step - loss: 0.0015\n",
      "Epoch 60/100\n",
      "4/4 [==============================] - 0s 58ms/step - loss: 0.0015\n",
      "Epoch 61/100\n",
      "4/4 [==============================] - 0s 46ms/step - loss: 0.0015\n",
      "Epoch 62/100\n",
      "4/4 [==============================] - 0s 46ms/step - loss: 0.0015\n",
      "Epoch 63/100\n",
      "4/4 [==============================] - 0s 59ms/step - loss: 0.0015\n",
      "Epoch 64/100\n",
      "4/4 [==============================] - 0s 53ms/step - loss: 0.0015\n",
      "Epoch 65/100\n",
      "4/4 [==============================] - 0s 45ms/step - loss: 0.0015\n",
      "Epoch 66/100\n",
      "4/4 [==============================] - 0s 51ms/step - loss: 0.0015\n",
      "Epoch 67/100\n",
      "4/4 [==============================] - 0s 49ms/step - loss: 0.0015\n",
      "Epoch 68/100\n",
      "4/4 [==============================] - 0s 61ms/step - loss: 0.0014\n",
      "Epoch 69/100\n",
      "4/4 [==============================] - 0s 62ms/step - loss: 0.0014\n",
      "Epoch 70/100\n",
      "4/4 [==============================] - 0s 60ms/step - loss: 0.0014\n",
      "Epoch 71/100\n",
      "4/4 [==============================] - 0s 63ms/step - loss: 0.0014\n",
      "Epoch 72/100\n",
      "4/4 [==============================] - 0s 64ms/step - loss: 0.0014\n",
      "Epoch 73/100\n",
      "4/4 [==============================] - 0s 61ms/step - loss: 0.0014\n",
      "Epoch 74/100\n",
      "4/4 [==============================] - 0s 64ms/step - loss: 0.0014\n",
      "Epoch 75/100\n",
      "4/4 [==============================] - 0s 58ms/step - loss: 0.0014\n",
      "Epoch 76/100\n",
      "4/4 [==============================] - 0s 59ms/step - loss: 0.0014\n",
      "Epoch 77/100\n",
      "4/4 [==============================] - 0s 52ms/step - loss: 0.0014\n",
      "Epoch 78/100\n",
      "4/4 [==============================] - 0s 53ms/step - loss: 0.0014\n",
      "Epoch 79/100\n",
      "4/4 [==============================] - 0s 54ms/step - loss: 0.0014\n",
      "Epoch 80/100\n",
      "4/4 [==============================] - 0s 55ms/step - loss: 0.0014\n",
      "Epoch 81/100\n",
      "4/4 [==============================] - 0s 53ms/step - loss: 0.0014\n",
      "Epoch 82/100\n",
      "4/4 [==============================] - 0s 46ms/step - loss: 0.0014\n",
      "Epoch 83/100\n",
      "4/4 [==============================] - 0s 45ms/step - loss: 0.0014\n",
      "Epoch 84/100\n",
      "4/4 [==============================] - 0s 46ms/step - loss: 0.0014\n",
      "Epoch 85/100\n",
      "4/4 [==============================] - 0s 53ms/step - loss: 0.0014\n",
      "Epoch 86/100\n",
      "4/4 [==============================] - 0s 52ms/step - loss: 0.0013\n",
      "Epoch 87/100\n",
      "4/4 [==============================] - 0s 52ms/step - loss: 0.0013\n",
      "Epoch 88/100\n",
      "4/4 [==============================] - 0s 53ms/step - loss: 0.0013\n",
      "Epoch 89/100\n",
      "4/4 [==============================] - 0s 52ms/step - loss: 0.0013\n",
      "Epoch 90/100\n",
      "4/4 [==============================] - 0s 50ms/step - loss: 0.0013\n",
      "Epoch 91/100\n",
      "4/4 [==============================] - 0s 48ms/step - loss: 0.0013\n",
      "Epoch 92/100\n",
      "4/4 [==============================] - 0s 53ms/step - loss: 0.0013\n",
      "Epoch 93/100\n",
      "4/4 [==============================] - 0s 54ms/step - loss: 0.0013\n",
      "Epoch 94/100\n",
      "4/4 [==============================] - 0s 52ms/step - loss: 0.0013\n",
      "Epoch 95/100\n",
      "4/4 [==============================] - 0s 48ms/step - loss: 0.0013\n",
      "Epoch 96/100\n",
      "4/4 [==============================] - 0s 46ms/step - loss: 0.0013\n",
      "Epoch 97/100\n",
      "4/4 [==============================] - 0s 45ms/step - loss: 0.0013\n",
      "Epoch 98/100\n",
      "4/4 [==============================] - 0s 51ms/step - loss: 0.0013\n",
      "Epoch 99/100\n",
      "4/4 [==============================] - 0s 48ms/step - loss: 0.0013\n",
      "Epoch 100/100\n",
      "4/4 [==============================] - 0s 47ms/step - loss: 0.0013\n"
     ]
    },
    {
     "data": {
      "text/plain": [
       "<keras.callbacks.History at 0x7f87df001670>"
      ]
     },
     "execution_count": 17,
     "metadata": {},
     "output_type": "execute_result"
    }
   ],
   "source": [
    "set_seeds()\n",
    "user_autoencoder.fit(users, users,\n",
    "                epochs=100,\n",
    "                batch_size=256,\n",
    "                shuffle=True)"
   ]
  },
  {
   "cell_type": "code",
   "execution_count": 22,
   "id": "2afb00f2",
   "metadata": {
    "scrolled": true
   },
   "outputs": [
    {
     "name": "stdout",
     "output_type": "stream",
     "text": [
      "30/30 [==============================] - 0s 3ms/step\n"
     ]
    }
   ],
   "source": [
    "latent_user = user_encoder.predict(users)"
   ]
  },
  {
   "cell_type": "markdown",
   "id": "2c49ef73",
   "metadata": {},
   "source": [
    "## 2. encode item info"
   ]
  },
  {
   "cell_type": "code",
   "execution_count": 16,
   "id": "f7b1aa1c",
   "metadata": {},
   "outputs": [
    {
     "name": "stderr",
     "output_type": "stream",
     "text": [
      "/Users/jamee/miniconda3/envs/Transformer/lib/python3.9/site-packages/tqdm/auto.py:22: TqdmWarning: IProgress not found. Please update jupyter and ipywidgets. See https://ipywidgets.readthedocs.io/en/stable/user_install.html\n",
      "  from .autonotebook import tqdm as notebook_tqdm\n"
     ]
    }
   ],
   "source": [
    "from transformers import AutoTokenizer\n",
    "from transformers import TFAutoModel\n",
    "from keras.optimizers import Adam"
   ]
  },
  {
   "cell_type": "code",
   "execution_count": 17,
   "id": "59f6d4d2",
   "metadata": {},
   "outputs": [],
   "source": [
    "tokenizer = AutoTokenizer.from_pretrained('roberta-base')"
   ]
  },
  {
   "cell_type": "code",
   "execution_count": 18,
   "id": "707e3201",
   "metadata": {
    "scrolled": false
   },
   "outputs": [
    {
     "name": "stderr",
     "output_type": "stream",
     "text": [
      "/Users/jamee/miniconda3/envs/Transformer/lib/python3.9/site-packages/IPython/core/interactiveshell.py:3457: FutureWarning: In a future version of pandas all arguments of read_csv except for the argument 'filepath_or_buffer' will be keyword-only.\n",
      "  exec(code_obj, self.user_global_ns, self.user_ns)\n",
      "/var/folders/pp/m070wqfs1jl8k6stqvty0wkc0000gn/T/ipykernel_19974/74995158.py:7: ParserWarning: Length of header or names does not match length of data. This leads to a loss of data with index_col=False.\n",
      "  item_info = pd.read_csv(os.path.join(data_dir, 'u.item'), '|', names=names,\n"
     ]
    }
   ],
   "source": [
    "names = ['movie_id', 'movie_title', 'release_date', 'video_release_date',\n",
    "              'IMDb_URL', 'unknown', 'Action', 'Adventure' 'Animation',\n",
    "              \"Children's\", \"Comedy\", \"Crime\", \"Documentary\", \"Drama\", \"Fantasy\",\n",
    "              \"Film-Noir\", \"Horror\", \"Musical\", \"Mystery\", \"Romance\", \"Sci-Fi\",\n",
    "              \"Thriller\", \"War\", \"Western\"]\n",
    "data_dir = \"./data/ml-100k\"\n",
    "item_info = pd.read_csv(os.path.join(data_dir, 'u.item'), '|', names=names,\n",
    "                       engine='python', encoding = \"ISO-8859-1\", index_col=False)"
   ]
  },
  {
   "cell_type": "code",
   "execution_count": 19,
   "id": "6c4cc190",
   "metadata": {},
   "outputs": [],
   "source": [
    "item_info.drop(columns=['movie_id', 'video_release_date', 'IMDb_URL'], inplace=True)"
   ]
  },
  {
   "cell_type": "code",
   "execution_count": 20,
   "id": "a1b8e726",
   "metadata": {
    "scrolled": true
   },
   "outputs": [
    {
     "name": "stderr",
     "output_type": "stream",
     "text": [
      "/var/folders/pp/m070wqfs1jl8k6stqvty0wkc0000gn/T/ipykernel_19974/1251032369.py:1: FutureWarning: The default value of regex will change from True to False in a future version.\n",
      "  item_info['movie_title'] = item_info['movie_title'].str.replace(r\" \\(\\d{4}\\)\",\"\")\n"
     ]
    }
   ],
   "source": [
    "item_info['movie_title'] = item_info['movie_title'].str.replace(r\" \\(\\d{4}\\)\",\"\")"
   ]
  },
  {
   "cell_type": "code",
   "execution_count": 21,
   "id": "ada2318c",
   "metadata": {
    "scrolled": true
   },
   "outputs": [],
   "source": [
    "lm_input = tokenizer(item_info['movie_title'].values.tolist(), return_tensors='tf', truncation=True, padding=True, max_length=8)"
   ]
  },
  {
   "cell_type": "code",
   "execution_count": 22,
   "id": "fc56098b",
   "metadata": {
    "scrolled": false
   },
   "outputs": [
    {
     "name": "stderr",
     "output_type": "stream",
     "text": [
      "Some layers from the model checkpoint at roberta-base were not used when initializing TFRobertaModel: ['lm_head']\n",
      "- This IS expected if you are initializing TFRobertaModel from the checkpoint of a model trained on another task or with another architecture (e.g. initializing a BertForSequenceClassification model from a BertForPreTraining model).\n",
      "- This IS NOT expected if you are initializing TFRobertaModel from the checkpoint of a model that you expect to be exactly identical (initializing a BertForSequenceClassification model from a BertForSequenceClassification model).\n",
      "All the layers of TFRobertaModel were initialized from the model checkpoint at roberta-base.\n",
      "If your task is similar to the task the model of the checkpoint was trained on, you can already use TFRobertaModel for predictions without further training.\n"
     ]
    }
   ],
   "source": [
    "model = TFAutoModel.from_pretrained(\"roberta-base\")"
   ]
  },
  {
   "cell_type": "code",
   "execution_count": 23,
   "id": "1a78866b",
   "metadata": {},
   "outputs": [
    {
     "name": "stderr",
     "output_type": "stream",
     "text": [
      "/Users/jamee/miniconda3/envs/Transformer/lib/python3.9/site-packages/tensorflow/python/data/ops/structured_function.py:256: UserWarning: Even though the `tf.config.experimental_run_functions_eagerly` option is set, this option does not apply to tf.data functions. To force eager execution of tf.data functions, please use `tf.data.experimental.enable_debug_mode()`.\n",
      "  warnings.warn(\n"
     ]
    },
    {
     "name": "stdout",
     "output_type": "stream",
     "text": [
      "53/53 [==============================] - 32s 598ms/step\n"
     ]
    }
   ],
   "source": [
    "lm_output = model.predict(lm_input)"
   ]
  },
  {
   "cell_type": "code",
   "execution_count": 24,
   "id": "7bb7d988",
   "metadata": {},
   "outputs": [],
   "source": [
    "items = tf.reshape(lm_output[0], (1682, -1))"
   ]
  },
  {
   "cell_type": "code",
   "execution_count": 25,
   "id": "1630bf54",
   "metadata": {
    "scrolled": true
   },
   "outputs": [],
   "source": [
    "item_info['release_year'] = item_info['release_date'].str.extract(r'(\\d{4}$)')\n",
    "item_info['release_year'] = item_info['release_year'].apply(lambda x: int(x) if pd.notnull(x) else x)"
   ]
  },
  {
   "cell_type": "code",
   "execution_count": 26,
   "id": "f8535250",
   "metadata": {},
   "outputs": [],
   "source": [
    "item_info['day_sin'] = np.sin(2 * np.pi * (pd.to_datetime(item_info['release_date']).dt.dayofyear/365.0))\n",
    "item_info['day_cos'] = np.cos(2 * np.pi * (pd.to_datetime(item_info['release_date']).dt.dayofyear/365.0))"
   ]
  },
  {
   "cell_type": "code",
   "execution_count": 27,
   "id": "f80903b4",
   "metadata": {},
   "outputs": [],
   "source": [
    "item_info.drop(columns=['release_date'], inplace=True)"
   ]
  },
  {
   "cell_type": "code",
   "execution_count": 28,
   "id": "58e7ee89",
   "metadata": {},
   "outputs": [
    {
     "name": "stderr",
     "output_type": "stream",
     "text": [
      "/var/folders/pp/m070wqfs1jl8k6stqvty0wkc0000gn/T/ipykernel_19974/1321115318.py:1: FutureWarning: Dropping of nuisance columns in DataFrame reductions (with 'numeric_only=None') is deprecated; in a future version this will raise TypeError.  Select only valid columns before calling the reduction.\n",
      "  item_info.fillna(item_info.mean(), inplace=True)\n"
     ]
    }
   ],
   "source": [
    "item_info.fillna(item_info.mean(), inplace=True)"
   ]
  },
  {
   "cell_type": "code",
   "execution_count": 29,
   "id": "b829ec5b",
   "metadata": {
    "scrolled": true
   },
   "outputs": [],
   "source": [
    "items = tf.concat((items, tf.convert_to_tensor(item_info.iloc[:, 1:19], dtype=tf.float32)),axis=1)"
   ]
  },
  {
   "cell_type": "code",
   "execution_count": 30,
   "id": "b3a58adb",
   "metadata": {},
   "outputs": [],
   "source": [
    "numeric_features = item_info.columns.tolist()\n",
    "\n",
    "inputs = {}\n",
    "for name, column in item_info.items():\n",
    "#     if type(column[0]) == str:\n",
    "#         dtype = tf.string\n",
    "    if (name in categorical_feature_names or\n",
    "        name in binary_feature_names):\n",
    "        dtype = tf.int64\n",
    "    else:\n",
    "        dtype = tf.float32\n",
    "\n",
    "    inputs[name] = tf.keras.Input(shape=(), name=name, dtype=dtype)"
   ]
  },
  {
   "cell_type": "code",
   "execution_count": 31,
   "id": "c0b1661a",
   "metadata": {},
   "outputs": [],
   "source": [
    "preprocessed = []\n",
    "\n",
    "for name in numeric_features[:-3]:\n",
    "    inp = inputs[name]\n",
    "    inp = inp[:, tf.newaxis]\n",
    "    float_value = tf.cast(inp, tf.float32)\n",
    "    preprocessed.append(float_value)"
   ]
  },
  {
   "cell_type": "code",
   "execution_count": 32,
   "id": "37b55cc8",
   "metadata": {},
   "outputs": [],
   "source": [
    "numeric_inputs = {}\n",
    "for name in ['release_year']:\n",
    "    numeric_inputs[name]=inputs[name]\n",
    "\n",
    "numeric_inputs = stack_dict(numeric_inputs)\n",
    "numeric_normalized = normalizer(numeric_inputs)\n",
    "\n",
    "preprocessed.append(numeric_normalized)"
   ]
  },
  {
   "cell_type": "code",
   "execution_count": 33,
   "id": "410e6ad4",
   "metadata": {
    "scrolled": true
   },
   "outputs": [],
   "source": [
    "items = tf.concat((items, tf.squeeze(normalizer(item_info['release_year'].values))[:,tf.newaxis]), axis=1)"
   ]
  },
  {
   "cell_type": "code",
   "execution_count": 34,
   "id": "329b10b7",
   "metadata": {},
   "outputs": [],
   "source": [
    "items = tf.concat((items, tf.convert_to_tensor(item_info.iloc[:,-2:], dtype=tf.float32)), axis=1)"
   ]
  },
  {
   "cell_type": "code",
   "execution_count": 35,
   "id": "3713478f",
   "metadata": {},
   "outputs": [],
   "source": [
    "for name in numeric_features[-2:]:\n",
    "    inp = inputs[name]\n",
    "    inp = inp[:, tf.newaxis]\n",
    "    float_value = tf.cast(inp, tf.float32)\n",
    "    preprocessed.append(float_value)"
   ]
  },
  {
   "cell_type": "code",
   "execution_count": 36,
   "id": "629f444c",
   "metadata": {},
   "outputs": [],
   "source": [
    "encoding_dim = 32\n",
    "item_input = keras.Input(shape=(6166,))\n",
    "# \"encoded\" is the encoded representation of the input\n",
    "encoded = layers.Dense(1024, activation='relu')(item_input)\n",
    "encoded = layers.Dense(128, activation='relu')(encoded)\n",
    "encoded = layers.LayerNormalization()(encoded)\n",
    "encoded = layers.Dense(32, activation='relu')(encoded)\n",
    "encoded = layers.LayerNormalization()(encoded)\n",
    "# \"decoded\" is the lossy reconstruction of the input\n",
    "decoded = layers.Dense(128, activation='relu')(encoded)\n",
    "decoded = layers.Dense(1024, activation='relu')(decoded)\n",
    "decoded = layers.Dense(6166)(decoded)\n",
    "\n",
    "\n",
    "item_autoencoder = keras.Model(item_input, decoded)\n",
    "item_autoencoder.compile(optimizer='adam', loss='mse')\n",
    "\n",
    "item_encoder = keras.Model(item_input, encoded)\n",
    "\n",
    "# This is our encoded (32-dimensional) input\n",
    "encoded_input = keras.Input(shape=(encoding_dim,))\n",
    "# Retrieve the last layer of the autoencoder model\n",
    "decoder_output = item_autoencoder.layers[-3](encoded_input)\n",
    "decoder_output = item_autoencoder.layers[-2](decoder_output)\n",
    "decoder_output = item_autoencoder.layers[-1](decoder_output)\n",
    "\n",
    "# Create the decoder model\n",
    "item_decoder = keras.Model(encoded_input, decoder_output)"
   ]
  },
  {
   "cell_type": "code",
   "execution_count": 39,
   "id": "f6a9dfc7",
   "metadata": {},
   "outputs": [],
   "source": [
    "item_autoencoder.compile(optimizer='adam', loss='mse')"
   ]
  },
  {
   "cell_type": "code",
   "execution_count": 40,
   "id": "4a5c672f",
   "metadata": {},
   "outputs": [
    {
     "name": "stdout",
     "output_type": "stream",
     "text": [
      "Epoch 1/100\n"
     ]
    },
    {
     "name": "stderr",
     "output_type": "stream",
     "text": [
      "/Users/jamee/miniconda3/envs/Transformer/lib/python3.9/site-packages/tensorflow/python/data/ops/structured_function.py:256: UserWarning: Even though the `tf.config.experimental_run_functions_eagerly` option is set, this option does not apply to tf.data functions. To force eager execution of tf.data functions, please use `tf.data.experimental.enable_debug_mode()`.\n",
      "  warnings.warn(\n"
     ]
    },
    {
     "name": "stdout",
     "output_type": "stream",
     "text": [
      "7/7 [==============================] - 3s 296ms/step - loss: 4.3155\n",
      "Epoch 2/100\n",
      "7/7 [==============================] - 2s 284ms/step - loss: 4.0910\n",
      "Epoch 3/100\n",
      "7/7 [==============================] - 2s 279ms/step - loss: 3.6608\n",
      "Epoch 4/100\n",
      "7/7 [==============================] - 2s 275ms/step - loss: 3.0031\n",
      "Epoch 5/100\n",
      "7/7 [==============================] - 2s 277ms/step - loss: 2.0465\n",
      "Epoch 6/100\n",
      "7/7 [==============================] - 2s 324ms/step - loss: 0.7826\n",
      "Epoch 7/100\n",
      "7/7 [==============================] - 2s 289ms/step - loss: 0.1703\n",
      "Epoch 8/100\n",
      "7/7 [==============================] - 2s 275ms/step - loss: 0.1156\n",
      "Epoch 9/100\n",
      "7/7 [==============================] - 2s 274ms/step - loss: 0.0591\n",
      "Epoch 10/100\n",
      "7/7 [==============================] - 2s 289ms/step - loss: 0.0420\n",
      "Epoch 11/100\n",
      "7/7 [==============================] - 2s 272ms/step - loss: 0.0361\n",
      "Epoch 12/100\n",
      "7/7 [==============================] - 2s 272ms/step - loss: 0.0339\n",
      "Epoch 13/100\n",
      "7/7 [==============================] - 2s 275ms/step - loss: 0.0320\n",
      "Epoch 14/100\n",
      "7/7 [==============================] - 2s 342ms/step - loss: 0.0317\n",
      "Epoch 15/100\n",
      "7/7 [==============================] - 2s 336ms/step - loss: 0.0314\n",
      "Epoch 16/100\n",
      "7/7 [==============================] - 2s 331ms/step - loss: 0.0312\n",
      "Epoch 17/100\n",
      "7/7 [==============================] - 2s 296ms/step - loss: 0.0312\n",
      "Epoch 18/100\n",
      "7/7 [==============================] - 3s 387ms/step - loss: 0.0314\n",
      "Epoch 19/100\n",
      "7/7 [==============================] - 2s 298ms/step - loss: 0.0316\n",
      "Epoch 20/100\n",
      "7/7 [==============================] - 2s 290ms/step - loss: 0.0316\n",
      "Epoch 21/100\n",
      "7/7 [==============================] - 2s 276ms/step - loss: 0.0316\n",
      "Epoch 22/100\n",
      "7/7 [==============================] - 2s 279ms/step - loss: 0.0319\n",
      "Epoch 23/100\n",
      "7/7 [==============================] - 2s 280ms/step - loss: 0.0319\n",
      "Epoch 24/100\n",
      "7/7 [==============================] - 2s 275ms/step - loss: 0.0322\n",
      "Epoch 25/100\n",
      "7/7 [==============================] - 2s 279ms/step - loss: 0.0321\n",
      "Epoch 26/100\n",
      "7/7 [==============================] - 2s 286ms/step - loss: 0.0322\n",
      "Epoch 27/100\n",
      "7/7 [==============================] - 2s 275ms/step - loss: 0.0320\n",
      "Epoch 28/100\n",
      "7/7 [==============================] - 2s 281ms/step - loss: 0.0322\n",
      "Epoch 29/100\n",
      "7/7 [==============================] - 2s 279ms/step - loss: 0.0323\n",
      "Epoch 30/100\n",
      "7/7 [==============================] - 2s 278ms/step - loss: 0.0324\n",
      "Epoch 31/100\n",
      "7/7 [==============================] - 2s 277ms/step - loss: 0.0323\n",
      "Epoch 32/100\n",
      "7/7 [==============================] - 3s 478ms/step - loss: 0.0324\n",
      "Epoch 33/100\n",
      "7/7 [==============================] - 3s 314ms/step - loss: 0.0326\n",
      "Epoch 34/100\n",
      "7/7 [==============================] - 2s 289ms/step - loss: 0.0327\n",
      "Epoch 35/100\n",
      "7/7 [==============================] - 2s 321ms/step - loss: 0.0329\n",
      "Epoch 36/100\n",
      "7/7 [==============================] - 2s 271ms/step - loss: 0.0331\n",
      "Epoch 37/100\n",
      "7/7 [==============================] - 2s 271ms/step - loss: 0.0329\n",
      "Epoch 38/100\n",
      "7/7 [==============================] - 2s 277ms/step - loss: 0.0329\n",
      "Epoch 39/100\n",
      "7/7 [==============================] - 2s 274ms/step - loss: 0.0330\n",
      "Epoch 40/100\n",
      "7/7 [==============================] - 2s 275ms/step - loss: 0.0331\n",
      "Epoch 41/100\n",
      "7/7 [==============================] - 2s 280ms/step - loss: 0.0336\n",
      "Epoch 42/100\n",
      "7/7 [==============================] - 2s 279ms/step - loss: 0.0336\n",
      "Epoch 43/100\n",
      "7/7 [==============================] - 2s 296ms/step - loss: 0.0337\n",
      "Epoch 44/100\n",
      "7/7 [==============================] - 2s 275ms/step - loss: 0.0339\n",
      "Epoch 45/100\n",
      "7/7 [==============================] - 2s 276ms/step - loss: 0.0337\n",
      "Epoch 46/100\n",
      "7/7 [==============================] - 2s 281ms/step - loss: 0.0335\n",
      "Epoch 47/100\n",
      "7/7 [==============================] - 2s 274ms/step - loss: 0.0333\n",
      "Epoch 48/100\n",
      "7/7 [==============================] - 2s 275ms/step - loss: 0.0336\n",
      "Epoch 49/100\n",
      "7/7 [==============================] - 2s 295ms/step - loss: 0.0335\n",
      "Epoch 50/100\n",
      "7/7 [==============================] - 2s 276ms/step - loss: 0.0334\n",
      "Epoch 51/100\n",
      "7/7 [==============================] - 2s 280ms/step - loss: 0.0338\n",
      "Epoch 52/100\n",
      "7/7 [==============================] - 2s 284ms/step - loss: 0.0337\n",
      "Epoch 53/100\n",
      "7/7 [==============================] - 2s 287ms/step - loss: 0.0334\n",
      "Epoch 54/100\n",
      "7/7 [==============================] - 2s 294ms/step - loss: 0.0334\n",
      "Epoch 55/100\n",
      "7/7 [==============================] - 2s 277ms/step - loss: 0.0334\n",
      "Epoch 56/100\n",
      "7/7 [==============================] - 2s 280ms/step - loss: 0.0337\n",
      "Epoch 57/100\n",
      "7/7 [==============================] - 2s 277ms/step - loss: 0.0337\n",
      "Epoch 58/100\n",
      "7/7 [==============================] - 2s 278ms/step - loss: 0.0336\n",
      "Epoch 59/100\n",
      "7/7 [==============================] - 2s 278ms/step - loss: 0.0334\n",
      "Epoch 60/100\n",
      "7/7 [==============================] - 2s 276ms/step - loss: 0.0331\n",
      "Epoch 61/100\n",
      "7/7 [==============================] - 2s 276ms/step - loss: 0.0333\n",
      "Epoch 62/100\n",
      "7/7 [==============================] - 2s 277ms/step - loss: 0.0336\n",
      "Epoch 63/100\n",
      "7/7 [==============================] - 2s 321ms/step - loss: 0.0335\n",
      "Epoch 64/100\n",
      "7/7 [==============================] - 2s 278ms/step - loss: 0.0334\n",
      "Epoch 65/100\n",
      "7/7 [==============================] - 2s 277ms/step - loss: 0.0333\n",
      "Epoch 66/100\n",
      "7/7 [==============================] - 2s 275ms/step - loss: 0.0332\n",
      "Epoch 67/100\n",
      "7/7 [==============================] - 2s 351ms/step - loss: 0.0332\n",
      "Epoch 68/100\n",
      "7/7 [==============================] - 2s 317ms/step - loss: 0.0332\n",
      "Epoch 69/100\n",
      "7/7 [==============================] - 3s 395ms/step - loss: 0.0334\n",
      "Epoch 70/100\n",
      "7/7 [==============================] - 2s 318ms/step - loss: 0.0333\n",
      "Epoch 71/100\n",
      "7/7 [==============================] - 2s 309ms/step - loss: 0.0335\n",
      "Epoch 72/100\n",
      "7/7 [==============================] - 2s 282ms/step - loss: 0.0332\n",
      "Epoch 73/100\n",
      "7/7 [==============================] - 2s 284ms/step - loss: 0.0332\n",
      "Epoch 74/100\n",
      "7/7 [==============================] - 2s 343ms/step - loss: 0.0331\n",
      "Epoch 75/100\n",
      "7/7 [==============================] - 2s 282ms/step - loss: 0.0329\n",
      "Epoch 76/100\n",
      "7/7 [==============================] - 2s 284ms/step - loss: 0.0335\n",
      "Epoch 77/100\n",
      "7/7 [==============================] - 2s 284ms/step - loss: 0.0336\n",
      "Epoch 78/100\n",
      "7/7 [==============================] - 2s 281ms/step - loss: 0.0334\n",
      "Epoch 79/100\n",
      "7/7 [==============================] - 2s 286ms/step - loss: 0.0334\n",
      "Epoch 80/100\n",
      "7/7 [==============================] - 2s 286ms/step - loss: 0.0334\n",
      "Epoch 81/100\n",
      "7/7 [==============================] - 2s 285ms/step - loss: 0.0332\n",
      "Epoch 82/100\n",
      "7/7 [==============================] - 2s 286ms/step - loss: 0.0330\n",
      "Epoch 83/100\n",
      "7/7 [==============================] - 2s 288ms/step - loss: 0.0329\n",
      "Epoch 84/100\n",
      "7/7 [==============================] - 2s 284ms/step - loss: 0.0329\n",
      "Epoch 85/100\n",
      "7/7 [==============================] - 2s 284ms/step - loss: 0.0328\n",
      "Epoch 86/100\n",
      "7/7 [==============================] - 2s 285ms/step - loss: 0.0331\n",
      "Epoch 87/100\n",
      "7/7 [==============================] - 2s 287ms/step - loss: 0.0330\n",
      "Epoch 88/100\n",
      "7/7 [==============================] - 2s 285ms/step - loss: 0.0329\n",
      "Epoch 89/100\n",
      "7/7 [==============================] - 2s 321ms/step - loss: 0.0330\n",
      "Epoch 90/100\n",
      "7/7 [==============================] - 2s 296ms/step - loss: 0.0329\n",
      "Epoch 91/100\n",
      "7/7 [==============================] - 2s 288ms/step - loss: 0.0331\n",
      "Epoch 92/100\n",
      "7/7 [==============================] - 2s 288ms/step - loss: 0.0330\n",
      "Epoch 93/100\n",
      "7/7 [==============================] - 2s 293ms/step - loss: 0.0327\n",
      "Epoch 94/100\n",
      "7/7 [==============================] - 2s 290ms/step - loss: 0.0326\n",
      "Epoch 95/100\n",
      "7/7 [==============================] - 2s 296ms/step - loss: 0.0329\n",
      "Epoch 96/100\n",
      "7/7 [==============================] - 2s 292ms/step - loss: 0.0329\n",
      "Epoch 97/100\n",
      "7/7 [==============================] - 2s 292ms/step - loss: 0.0328\n",
      "Epoch 98/100\n",
      "7/7 [==============================] - 2s 288ms/step - loss: 0.0327\n",
      "Epoch 99/100\n",
      "7/7 [==============================] - 2s 296ms/step - loss: 0.0326\n",
      "Epoch 100/100\n",
      "7/7 [==============================] - 2s 287ms/step - loss: 0.0327\n"
     ]
    },
    {
     "data": {
      "text/plain": [
       "<keras.callbacks.History at 0x7f87807d73a0>"
      ]
     },
     "execution_count": 40,
     "metadata": {},
     "output_type": "execute_result"
    }
   ],
   "source": [
    "set_seeds()\n",
    "item_autoencoder.fit(items, items,\n",
    "                epochs=100,\n",
    "                batch_size=256,\n",
    "                shuffle=True)"
   ]
  },
  {
   "cell_type": "code",
   "execution_count": 41,
   "id": "b74bc3a2",
   "metadata": {
    "scrolled": false
   },
   "outputs": [
    {
     "name": "stdout",
     "output_type": "stream",
     "text": [
      "53/53 [==============================] - 1s 12ms/step\n"
     ]
    }
   ],
   "source": [
    "latent_item = item_encoder.predict(items)"
   ]
  },
  {
   "cell_type": "code",
   "execution_count": 42,
   "id": "c545872d",
   "metadata": {
    "scrolled": false
   },
   "outputs": [
    {
     "name": "stdout",
     "output_type": "stream",
     "text": [
      "53/53 [==============================] - 0s 8ms/step\n"
     ]
    },
    {
     "data": {
      "text/plain": [
       "-0.010121994"
      ]
     },
     "execution_count": 42,
     "metadata": {},
     "output_type": "execute_result"
    }
   ],
   "source": [
    "item_decoder.predict(latent_item)[0][0]"
   ]
  },
  {
   "cell_type": "markdown",
   "id": "7f3bffcc",
   "metadata": {},
   "source": [
    "## User-Item match dataset"
   ]
  },
  {
   "cell_type": "code",
   "execution_count": 37,
   "id": "79e74a07",
   "metadata": {
    "scrolled": true
   },
   "outputs": [
    {
     "data": {
      "text/html": [
       "<div>\n",
       "<style scoped>\n",
       "    .dataframe tbody tr th:only-of-type {\n",
       "        vertical-align: middle;\n",
       "    }\n",
       "\n",
       "    .dataframe tbody tr th {\n",
       "        vertical-align: top;\n",
       "    }\n",
       "\n",
       "    .dataframe thead th {\n",
       "        text-align: right;\n",
       "    }\n",
       "</style>\n",
       "<table border=\"1\" class=\"dataframe\">\n",
       "  <thead>\n",
       "    <tr style=\"text-align: right;\">\n",
       "      <th></th>\n",
       "      <th>user_id</th>\n",
       "      <th>item_id</th>\n",
       "      <th>rating</th>\n",
       "      <th>timestamp</th>\n",
       "    </tr>\n",
       "  </thead>\n",
       "  <tbody>\n",
       "    <tr>\n",
       "      <th>0</th>\n",
       "      <td>196</td>\n",
       "      <td>242</td>\n",
       "      <td>3</td>\n",
       "      <td>881250949</td>\n",
       "    </tr>\n",
       "    <tr>\n",
       "      <th>1</th>\n",
       "      <td>186</td>\n",
       "      <td>302</td>\n",
       "      <td>3</td>\n",
       "      <td>891717742</td>\n",
       "    </tr>\n",
       "    <tr>\n",
       "      <th>2</th>\n",
       "      <td>22</td>\n",
       "      <td>377</td>\n",
       "      <td>1</td>\n",
       "      <td>878887116</td>\n",
       "    </tr>\n",
       "    <tr>\n",
       "      <th>3</th>\n",
       "      <td>244</td>\n",
       "      <td>51</td>\n",
       "      <td>2</td>\n",
       "      <td>880606923</td>\n",
       "    </tr>\n",
       "    <tr>\n",
       "      <th>4</th>\n",
       "      <td>166</td>\n",
       "      <td>346</td>\n",
       "      <td>1</td>\n",
       "      <td>886397596</td>\n",
       "    </tr>\n",
       "  </tbody>\n",
       "</table>\n",
       "</div>"
      ],
      "text/plain": [
       "  user_id item_id rating  timestamp\n",
       "0     196     242      3  881250949\n",
       "1     186     302      3  891717742\n",
       "2      22     377      1  878887116\n",
       "3     244      51      2  880606923\n",
       "4     166     346      1  886397596"
      ]
     },
     "execution_count": 37,
     "metadata": {},
     "output_type": "execute_result"
    }
   ],
   "source": [
    "user_ids = []\n",
    "item_ids = []\n",
    "ratings = []\n",
    "timestamps = []\n",
    "\n",
    "with open(\"./data/ml-100k/u.data\", 'rt') as file1:\n",
    "    for line in file1.readlines():\n",
    "        a = line.split()\n",
    "        user_ids.append(a[0])\n",
    "        item_ids.append(a[1])\n",
    "        ratings.append(a[2])\n",
    "        timestamps.append(a[3])\n",
    "    \n",
    "rating_df = pd.DataFrame({'user_id': user_ids, 'item_id': item_ids, 'rating': ratings, 'timestamp': timestamps})\n",
    "rating_df.head()"
   ]
  },
  {
   "cell_type": "code",
   "execution_count": 38,
   "id": "1ba259e5",
   "metadata": {
    "scrolled": true
   },
   "outputs": [],
   "source": [
    "# tf.map_fn(tf.one_hot, tf.convert_to_tensor(rating_df['rating'].values))"
   ]
  },
  {
   "cell_type": "code",
   "execution_count": 39,
   "id": "2c9512a4",
   "metadata": {},
   "outputs": [],
   "source": [
    "sigmoid = lambda x: 1/(1 + np.exp(-x))"
   ]
  },
  {
   "cell_type": "code",
   "execution_count": 40,
   "id": "26ae4736",
   "metadata": {},
   "outputs": [],
   "source": [
    "rating_similarity = {1: sigmoid(-4.), 2: sigmoid(-2.), 3: sigmoid(0.), 4: sigmoid(2.), 5: sigmoid(4.)}"
   ]
  },
  {
   "cell_type": "code",
   "execution_count": 41,
   "id": "9b5ecb0f",
   "metadata": {
    "scrolled": true
   },
   "outputs": [],
   "source": [
    "rating_df['rating']=rating_df['rating'].apply(lambda x: rating_similarity[int(x)])"
   ]
  },
  {
   "cell_type": "code",
   "execution_count": 42,
   "id": "e7dbe4b8",
   "metadata": {},
   "outputs": [],
   "source": [
    "rating_df.drop(columns=['timestamp'], inplace=True)"
   ]
  },
  {
   "cell_type": "code",
   "execution_count": 43,
   "id": "a04460c0",
   "metadata": {},
   "outputs": [],
   "source": [
    "rating_df['user_id'] = rating_df['user_id'].astype(int)-1\n",
    "rating_df['item_id'] = rating_df['item_id'].astype(int)-1"
   ]
  },
  {
   "cell_type": "code",
   "execution_count": 44,
   "id": "e98669d5",
   "metadata": {},
   "outputs": [],
   "source": [
    "user = tf.gather(users, rating_df.user_id.values)\n",
    "item = tf.gather(items, rating_df.item_id.values)"
   ]
  },
  {
   "cell_type": "code",
   "execution_count": 45,
   "id": "d56f525c",
   "metadata": {},
   "outputs": [],
   "source": [
    "# dataset = tf.data.Dataset.from_tensor_slices((user, item, tf.convert_to_tensor(rating_df['rating'].values)))"
   ]
  },
  {
   "cell_type": "code",
   "execution_count": 46,
   "id": "44aa8fa5",
   "metadata": {},
   "outputs": [],
   "source": [
    "user_input = Input(shape=(818,))\n",
    "item_input = Input(shape=(6166,))\n",
    "user_feat = user_encoder(user_input)\n",
    "item_feat = item_encoder(item_input)\n",
    "outputs = tf.keras.layers.Dot(axes=1)([user_feat, item_feat])\n",
    "# outputs =  tf.keras.activations.sigmoid(dot_similarity)"
   ]
  },
  {
   "cell_type": "code",
   "execution_count": 47,
   "id": "24cb14f3",
   "metadata": {},
   "outputs": [],
   "source": [
    "model = Model(inputs=[user_input, item_input], outputs=outputs)"
   ]
  },
  {
   "cell_type": "code",
   "execution_count": 48,
   "id": "01e9ecf3",
   "metadata": {},
   "outputs": [],
   "source": [
    "model.compile(loss=tf.nn.sigmoid_cross_entropy_with_logits, optimizer=\"adam\",\n",
    "\tmetrics=[\"accuracy\"])"
   ]
  },
  {
   "cell_type": "code",
   "execution_count": null,
   "id": "7c029b1a",
   "metadata": {},
   "outputs": [
    {
     "name": "stdout",
     "output_type": "stream",
     "text": [
      "Epoch 1/10\n"
     ]
    },
    {
     "name": "stderr",
     "output_type": "stream",
     "text": [
      "/Users/jamee/miniconda3/envs/Transformer/lib/python3.9/site-packages/tensorflow/python/data/ops/structured_function.py:256: UserWarning: Even though the `tf.config.experimental_run_functions_eagerly` option is set, this option does not apply to tf.data functions. To force eager execution of tf.data functions, please use `tf.data.experimental.enable_debug_mode()`.\n",
      "  warnings.warn(\n"
     ]
    },
    {
     "name": "stdout",
     "output_type": "stream",
     "text": [
      "782/782 [==============================] - 144s 184ms/step - loss: 0.6021 - accuracy: 0.0000e+00\n",
      "Epoch 2/10\n",
      "782/782 [==============================] - 168s 215ms/step - loss: 0.5774 - accuracy: 0.0000e+00\n",
      "Epoch 3/10\n",
      "782/782 [==============================] - 167s 214ms/step - loss: 0.5710 - accuracy: 0.0000e+00\n",
      "Epoch 4/10\n",
      "782/782 [==============================] - 165s 211ms/step - loss: 0.5655 - accuracy: 0.0000e+00\n",
      "Epoch 5/10\n",
      "782/782 [==============================] - 187s 239ms/step - loss: 0.5601 - accuracy: 0.0000e+00\n",
      "Epoch 6/10\n",
      "102/782 [==>...........................] - ETA: 3:12 - loss: 0.5521 - accuracy: 0.0000e+00"
     ]
    }
   ],
   "source": [
    "set_seeds()\n",
    "history = model.fit(\n",
    "    [user, item], tf.convert_to_tensor(rating_df['rating'].values),\n",
    "    batch_size=128, \n",
    "    epochs=10, shuffle=True)"
   ]
  },
  {
   "cell_type": "code",
   "execution_count": 57,
   "id": "9ecb8ef0",
   "metadata": {
    "scrolled": true
   },
   "outputs": [
    {
     "name": "stdout",
     "output_type": "stream",
     "text": [
      "1/1 [==============================] - 0s 114ms/step\n"
     ]
    },
    {
     "data": {
      "text/plain": [
       "<tf.Tensor: shape=(8, 1), dtype=float32, numpy=\n",
       "array([[0.81873375],\n",
       "       [0.7829724 ],\n",
       "       [0.11172543],\n",
       "       [0.69215775],\n",
       "       [0.5426289 ],\n",
       "       [0.836669  ],\n",
       "       [0.5364756 ],\n",
       "       [0.8023394 ]], dtype=float32)>"
      ]
     },
     "execution_count": 57,
     "metadata": {},
     "output_type": "execute_result"
    }
   ],
   "source": [
    "tf.math.sigmoid(model.predict([user[:8], item[:8]]))"
   ]
  },
  {
   "cell_type": "code",
   "execution_count": 63,
   "id": "c4124d55",
   "metadata": {},
   "outputs": [
    {
     "data": {
      "text/plain": [
       "0    0.500000\n",
       "1    0.500000\n",
       "2    0.017986\n",
       "3    0.119203\n",
       "4    0.017986\n",
       "5    0.880797\n",
       "6    0.119203\n",
       "7    0.982014\n",
       "Name: rating, dtype: float64"
      ]
     },
     "execution_count": 63,
     "metadata": {},
     "output_type": "execute_result"
    }
   ],
   "source": [
    "rating_df['rating'][:8]"
   ]
  },
  {
   "cell_type": "code",
   "execution_count": null,
   "id": "794e21ea",
   "metadata": {},
   "outputs": [],
   "source": []
  }
 ],
 "metadata": {
  "kernelspec": {
   "display_name": "Python 3 (ipykernel)",
   "language": "python",
   "name": "python3"
  },
  "language_info": {
   "codemirror_mode": {
    "name": "ipython",
    "version": 3
   },
   "file_extension": ".py",
   "mimetype": "text/x-python",
   "name": "python",
   "nbconvert_exporter": "python",
   "pygments_lexer": "ipython3",
   "version": "3.9.7"
  }
 },
 "nbformat": 4,
 "nbformat_minor": 5
}
