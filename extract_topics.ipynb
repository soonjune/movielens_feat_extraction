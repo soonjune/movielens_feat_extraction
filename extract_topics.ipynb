{
 "cells": [
  {
   "cell_type": "code",
   "execution_count": 1,
   "id": "ee402f3e",
   "metadata": {},
   "outputs": [],
   "source": [
    "import keras\n",
    "import pandas as pd\n",
    "from keras.models import Sequential\n",
    "from keras.layers import Dense , Flatten ,Embedding,Input\n",
    "from keras.models import Model\n",
    "import os\n",
    "import tensorflow as tf\n",
    "from tensorflow.keras import layers\n",
    "import numpy as np\n",
    "import random"
   ]
  },
  {
   "cell_type": "code",
   "execution_count": 2,
   "id": "2efea2cb",
   "metadata": {},
   "outputs": [],
   "source": [
    "tf.config.run_functions_eagerly(True)\n",
    "def set_seeds(seed=1299827):\n",
    "    os.environ['PYTHONHASHSEED'] = str(seed)\n",
    "    random.seed(seed)\n",
    "    tf.random.set_seed(seed)\n",
    "    np.random.seed(seed)"
   ]
  },
  {
   "cell_type": "markdown",
   "id": "fcfdeda4",
   "metadata": {},
   "source": [
    "## 1. encode user info"
   ]
  },
  {
   "cell_type": "code",
   "execution_count": 3,
   "id": "3f72912d",
   "metadata": {
    "scrolled": true
   },
   "outputs": [
    {
     "name": "stderr",
     "output_type": "stream",
     "text": [
      "<ipython-input-3-2ee378428c6a>:3: FutureWarning: In a future version of pandas all arguments of read_csv except for the argument 'filepath_or_buffer' will be keyword-only.\n",
      "  occupations = pd.read_csv(os.path.join(data_dir, 'u.occupation'), '\\t', names=names,\n"
     ]
    }
   ],
   "source": [
    "names = ['occupations']\n",
    "data_dir = \"./data/ml-100k\"\n",
    "occupations = pd.read_csv(os.path.join(data_dir, 'u.occupation'), '\\t', names=names,\n",
    "                       engine='python')"
   ]
  },
  {
   "cell_type": "code",
   "execution_count": 4,
   "id": "ee39b5f7",
   "metadata": {},
   "outputs": [
    {
     "name": "stderr",
     "output_type": "stream",
     "text": [
      "<ipython-input-4-d55d9ac86324>:3: FutureWarning: In a future version of pandas all arguments of read_csv except for the argument 'filepath_or_buffer' will be keyword-only.\n",
      "  user_info = pd.read_csv(os.path.join(data_dir, 'u.user'), '|', names=names,\n"
     ]
    }
   ],
   "source": [
    "names = ['user_id', 'age', 'gender', 'occupation', 'zip_code']\n",
    "data_dir = \"./data/ml-100k\"\n",
    "user_info = pd.read_csv(os.path.join(data_dir, 'u.user'), '|', names=names,\n",
    "                       engine='python')\n",
    "\n"
   ]
  },
  {
   "cell_type": "code",
   "execution_count": 5,
   "id": "5e5554a4",
   "metadata": {},
   "outputs": [],
   "source": [
    "def df_to_dataset(dataframe, shuffle=True, batch_size=32):\n",
    "    df = dataframe.copy()\n",
    "    df = {key: value[:,tf.newaxis] for key, value in dataframe.items()}\n",
    "    ds = tf.data.Dataset.from_tensor_slices((dict(df)))\n",
    "    if shuffle:\n",
    "        ds = ds.shuffle(buffer_size=len(dataframe))\n",
    "        ds = ds.batch(batch_size)\n",
    "        ds = ds.prefetch(batch_size)\n",
    "    return ds\n",
    "\n",
    "def get_normalization_layer(name, dataset):\n",
    "    # Create a Normalization layer for the feature.\n",
    "    normalizer = layers.Normalization(axis=None)\n",
    "\n",
    "    # Prepare a Dataset that only yields the feature.\n",
    "    feature_ds = dataset.map(lambda x, y: x[name])\n",
    "\n",
    "    # Learn the statistics of the data.\n",
    "    normalizer.adapt(feature_ds)\n",
    "\n",
    "    return normalizer"
   ]
  },
  {
   "cell_type": "code",
   "execution_count": 6,
   "id": "0f6e2837",
   "metadata": {},
   "outputs": [],
   "source": [
    "user_info.drop(columns=['user_id'], inplace=True)\n",
    "gender = {'M': 0, 'F': 1}\n",
    "user_info['gender'] = user_info['gender'].apply(lambda x: gender[x])"
   ]
  },
  {
   "cell_type": "code",
   "execution_count": 7,
   "id": "1a9bb631",
   "metadata": {},
   "outputs": [],
   "source": [
    "def stack_dict(inputs, fun=tf.stack):\n",
    "    values = []\n",
    "    for key in sorted(inputs.keys()):\n",
    "        values.append(tf.cast(inputs[key], tf.float32))\n",
    "\n",
    "    return fun(values, axis=-1)"
   ]
  },
  {
   "cell_type": "code",
   "execution_count": 8,
   "id": "024d107d",
   "metadata": {},
   "outputs": [],
   "source": [
    "binary_feature_names = ['gender']\n",
    "categorical_feature_names = ['occupation', 'zip_code']\n",
    "numeric_features = user_info[['age']]\n",
    "\n",
    "inputs = {}\n",
    "for name, column in user_info.items():\n",
    "#     if type(column[0]) == str:\n",
    "#         dtype = tf.string\n",
    "    if (name in categorical_feature_names or\n",
    "        name in binary_feature_names):\n",
    "        dtype = tf.int64\n",
    "    else:\n",
    "        dtype = tf.float32\n",
    "\n",
    "    inputs[name] = tf.keras.Input(shape=(), name=name, dtype=dtype)\n"
   ]
  },
  {
   "cell_type": "code",
   "execution_count": 9,
   "id": "a2a4d2cf",
   "metadata": {},
   "outputs": [],
   "source": [
    "preprocessed = []\n",
    "\n",
    "for name in binary_feature_names:\n",
    "    inp = inputs[name]\n",
    "    inp = inp[:, tf.newaxis]\n",
    "    float_value = tf.cast(inp, tf.float32)\n",
    "    preprocessed.append(float_value)"
   ]
  },
  {
   "cell_type": "code",
   "execution_count": 10,
   "id": "2696e6dd",
   "metadata": {
    "scrolled": true
   },
   "outputs": [
    {
     "name": "stderr",
     "output_type": "stream",
     "text": [
      "/home/seungjoonpark/miniconda3/envs/movielens/lib/python3.9/site-packages/tensorflow/python/data/ops/structured_function.py:256: UserWarning: Even though the `tf.config.experimental_run_functions_eagerly` option is set, this option does not apply to tf.data functions. To force eager execution of tf.data functions, please use `tf.data.experimental.enable_debug_mode()`.\n",
      "  warnings.warn(\n"
     ]
    }
   ],
   "source": [
    "normalizer = tf.keras.layers.Normalization(axis=-1)\n",
    "normalizer.adapt(stack_dict(dict(numeric_features)))"
   ]
  },
  {
   "cell_type": "code",
   "execution_count": 11,
   "id": "e845bfa2",
   "metadata": {},
   "outputs": [],
   "source": [
    "users = tf.convert_to_tensor(user_info['gender'].values, dtype=tf.float32)"
   ]
  },
  {
   "cell_type": "code",
   "execution_count": 12,
   "id": "c0a35621",
   "metadata": {},
   "outputs": [],
   "source": [
    "users = tf.concat((users[:, tf.newaxis], tf.squeeze(normalizer(user_info['age'].values))[:, tf.newaxis]), axis=1)"
   ]
  },
  {
   "cell_type": "code",
   "execution_count": 13,
   "id": "ee3b8797",
   "metadata": {},
   "outputs": [],
   "source": [
    "numeric_inputs = {}\n",
    "for name in ['age']:\n",
    "    numeric_inputs[name]=inputs[name]\n",
    "\n",
    "numeric_inputs = stack_dict(numeric_inputs)\n",
    "numeric_normalized = normalizer(numeric_inputs)\n",
    "\n",
    "preprocessed.append(numeric_normalized)"
   ]
  },
  {
   "cell_type": "code",
   "execution_count": 14,
   "id": "c06dc01d",
   "metadata": {
    "scrolled": true
   },
   "outputs": [
    {
     "name": "stdout",
     "output_type": "stream",
     "text": [
      "name: occupation\n"
     ]
    },
    {
     "name": "stderr",
     "output_type": "stream",
     "text": [
      "/home/seungjoonpark/miniconda3/envs/movielens/lib/python3.9/site-packages/numpy/core/numeric.py:2463: FutureWarning: elementwise comparison failed; returning scalar instead, but in the future will perform elementwise comparison\n",
      "  return bool(asarray(a1 == a2).all())\n"
     ]
    },
    {
     "name": "stdout",
     "output_type": "stream",
     "text": [
      "name: zip_code\n"
     ]
    }
   ],
   "source": [
    "for name in categorical_feature_names:\n",
    "    vocab = sorted(set(user_info[name]))\n",
    "    print(f'name: {name}')\n",
    "#     print(f'vocab: {vocab}\\n')\n",
    "\n",
    "    if type(vocab[0]) is str:\n",
    "        lookup = tf.keras.layers.StringLookup(vocabulary=vocab, output_mode='one_hot', num_oov_indices=0)\n",
    "    else:\n",
    "        lookup = tf.keras.layers.IntegerLookup(vocabulary=vocab, output_mode='one_hot', num_oov_indices=0)\n",
    "\n",
    "    x = lookup(user_info[name].values)\n",
    "    users = tf.concat((users, x), axis=1)"
   ]
  },
  {
   "cell_type": "code",
   "execution_count": 15,
   "id": "ba39747c",
   "metadata": {},
   "outputs": [],
   "source": [
    "encoding_dim = 32\n",
    "user_input = keras.Input(shape=(818,))\n",
    "# \"encoded\" is the encoded representation of the input\n",
    "encoded = layers.Dense(128, activation='leaky_relu')(user_input)\n",
    "encoded = layers.Dense(64, activation='leaky_relu')(encoded)\n",
    "encoded = layers.Dense(32, activation='leaky_relu')(encoded)\n",
    "# \"decoded\" is the lossy reconstruction of the input\n",
    "decoded = layers.Dense(64, activation='leaky_relu')(encoded)\n",
    "decoded = layers.Dense(128, activation='leaky_relu')(decoded)\n",
    "decoded = layers.Dense(818)(decoded)\n",
    "\n",
    "user_autoencoder = keras.Model(user_input, decoded)\n",
    "user_autoencoder.compile(optimizer='adam', loss='mse')\n",
    "\n",
    "user_encoder = keras.Model(user_input, encoded)\n",
    "\n",
    "# This is our encoded (32-dimensional) input\n",
    "encoded_input = keras.Input(shape=(encoding_dim,))\n",
    "# Retrieve the last layer of the autoencoder model\n",
    "decoder_output = user_autoencoder.layers[-3](encoded_input)\n",
    "decoder_output = user_autoencoder.layers[-2](decoder_output)\n",
    "decoder_output = user_autoencoder.layers[-1](decoder_output)\n",
    "\n",
    "# Create the decoder model\n",
    "user_decoder = keras.Model(encoded_input, decoder_output)\n",
    "\n",
    "user_autoencoder.compile(optimizer='adam', loss='mse')"
   ]
  },
  {
   "cell_type": "code",
   "execution_count": 16,
   "id": "2afb00f2",
   "metadata": {
    "scrolled": false
   },
   "outputs": [
    {
     "name": "stdout",
     "output_type": "stream",
     "text": [
      "30/30 [==============================] - 0s 2ms/step\n"
     ]
    }
   ],
   "source": [
    "latent_user = user_encoder.predict(users)"
   ]
  },
  {
   "cell_type": "code",
   "execution_count": 17,
   "id": "366f6331",
   "metadata": {},
   "outputs": [
    {
     "name": "stdout",
     "output_type": "stream",
     "text": [
      "Epoch 1/100\n",
      "4/4 [==============================] - 0s 32ms/step - loss: 0.0040\n",
      "Epoch 2/100\n",
      "4/4 [==============================] - 0s 29ms/step - loss: 0.0040\n",
      "Epoch 3/100\n",
      "4/4 [==============================] - 0s 29ms/step - loss: 0.0039\n",
      "Epoch 4/100\n",
      "4/4 [==============================] - 0s 28ms/step - loss: 0.0039\n",
      "Epoch 5/100\n",
      "4/4 [==============================] - 0s 28ms/step - loss: 0.0038\n",
      "Epoch 6/100\n",
      "4/4 [==============================] - 0s 29ms/step - loss: 0.0037\n",
      "Epoch 7/100\n",
      "4/4 [==============================] - 0s 28ms/step - loss: 0.0036\n",
      "Epoch 8/100\n",
      "4/4 [==============================] - 0s 35ms/step - loss: 0.0033\n",
      "Epoch 9/100\n",
      "4/4 [==============================] - 0s 29ms/step - loss: 0.0030\n",
      "Epoch 10/100\n",
      "4/4 [==============================] - 0s 30ms/step - loss: 0.0027\n",
      "Epoch 11/100\n",
      "4/4 [==============================] - 0s 30ms/step - loss: 0.0026\n",
      "Epoch 12/100\n",
      "4/4 [==============================] - 0s 27ms/step - loss: 0.0026\n",
      "Epoch 13/100\n",
      "4/4 [==============================] - 0s 30ms/step - loss: 0.0025\n",
      "Epoch 14/100\n",
      "4/4 [==============================] - 0s 28ms/step - loss: 0.0025\n",
      "Epoch 15/100\n",
      "4/4 [==============================] - 0s 28ms/step - loss: 0.0024\n",
      "Epoch 16/100\n",
      "4/4 [==============================] - 0s 29ms/step - loss: 0.0024\n",
      "Epoch 17/100\n",
      "4/4 [==============================] - 0s 30ms/step - loss: 0.0024\n",
      "Epoch 18/100\n",
      "4/4 [==============================] - 0s 30ms/step - loss: 0.0023\n",
      "Epoch 19/100\n",
      "4/4 [==============================] - 0s 29ms/step - loss: 0.0023\n",
      "Epoch 20/100\n",
      "4/4 [==============================] - 0s 29ms/step - loss: 0.0023\n",
      "Epoch 21/100\n",
      "4/4 [==============================] - 0s 31ms/step - loss: 0.0022\n",
      "Epoch 22/100\n",
      "4/4 [==============================] - 0s 29ms/step - loss: 0.0022\n",
      "Epoch 23/100\n",
      "4/4 [==============================] - 0s 30ms/step - loss: 0.0022\n",
      "Epoch 24/100\n",
      "4/4 [==============================] - 0s 29ms/step - loss: 0.0021\n",
      "Epoch 25/100\n",
      "4/4 [==============================] - 0s 30ms/step - loss: 0.0021\n",
      "Epoch 26/100\n",
      "4/4 [==============================] - 0s 29ms/step - loss: 0.0021\n",
      "Epoch 27/100\n",
      "4/4 [==============================] - 0s 29ms/step - loss: 0.0020\n",
      "Epoch 28/100\n",
      "4/4 [==============================] - 0s 30ms/step - loss: 0.0020\n",
      "Epoch 29/100\n",
      "4/4 [==============================] - 0s 30ms/step - loss: 0.0020\n",
      "Epoch 30/100\n",
      "4/4 [==============================] - 0s 29ms/step - loss: 0.0019\n",
      "Epoch 31/100\n",
      "4/4 [==============================] - 0s 29ms/step - loss: 0.0019\n",
      "Epoch 32/100\n",
      "4/4 [==============================] - 0s 30ms/step - loss: 0.0019\n",
      "Epoch 33/100\n",
      "4/4 [==============================] - 0s 28ms/step - loss: 0.0018\n",
      "Epoch 34/100\n",
      "4/4 [==============================] - 0s 29ms/step - loss: 0.0018\n",
      "Epoch 35/100\n",
      "4/4 [==============================] - 0s 30ms/step - loss: 0.0018\n",
      "Epoch 36/100\n",
      "4/4 [==============================] - 0s 30ms/step - loss: 0.0018\n",
      "Epoch 37/100\n",
      "4/4 [==============================] - 0s 29ms/step - loss: 0.0017\n",
      "Epoch 38/100\n",
      "4/4 [==============================] - 0s 30ms/step - loss: 0.0017\n",
      "Epoch 39/100\n",
      "4/4 [==============================] - 0s 29ms/step - loss: 0.0017\n",
      "Epoch 40/100\n",
      "4/4 [==============================] - 0s 29ms/step - loss: 0.0017\n",
      "Epoch 41/100\n",
      "4/4 [==============================] - 0s 29ms/step - loss: 0.0017\n",
      "Epoch 42/100\n",
      "4/4 [==============================] - 0s 29ms/step - loss: 0.0016\n",
      "Epoch 43/100\n",
      "4/4 [==============================] - 0s 29ms/step - loss: 0.0016\n",
      "Epoch 44/100\n",
      "4/4 [==============================] - 0s 29ms/step - loss: 0.0016\n",
      "Epoch 45/100\n",
      "4/4 [==============================] - 0s 29ms/step - loss: 0.0016\n",
      "Epoch 46/100\n",
      "4/4 [==============================] - 0s 29ms/step - loss: 0.0016\n",
      "Epoch 47/100\n",
      "4/4 [==============================] - 0s 29ms/step - loss: 0.0016\n",
      "Epoch 48/100\n",
      "4/4 [==============================] - 0s 29ms/step - loss: 0.0015\n",
      "Epoch 49/100\n",
      "4/4 [==============================] - 0s 29ms/step - loss: 0.0015\n",
      "Epoch 50/100\n",
      "4/4 [==============================] - 0s 28ms/step - loss: 0.0015\n",
      "Epoch 51/100\n",
      "4/4 [==============================] - 0s 28ms/step - loss: 0.0015\n",
      "Epoch 52/100\n",
      "4/4 [==============================] - 0s 28ms/step - loss: 0.0015\n",
      "Epoch 53/100\n",
      "4/4 [==============================] - 0s 30ms/step - loss: 0.0015\n",
      "Epoch 54/100\n",
      "4/4 [==============================] - 0s 28ms/step - loss: 0.0015\n",
      "Epoch 55/100\n",
      "4/4 [==============================] - 0s 30ms/step - loss: 0.0015\n",
      "Epoch 56/100\n",
      "4/4 [==============================] - 0s 29ms/step - loss: 0.0015\n",
      "Epoch 57/100\n",
      "4/4 [==============================] - 0s 28ms/step - loss: 0.0015\n",
      "Epoch 58/100\n",
      "4/4 [==============================] - 0s 29ms/step - loss: 0.0015\n",
      "Epoch 59/100\n",
      "4/4 [==============================] - 0s 29ms/step - loss: 0.0014\n",
      "Epoch 60/100\n",
      "4/4 [==============================] - 0s 30ms/step - loss: 0.0014\n",
      "Epoch 61/100\n",
      "4/4 [==============================] - 0s 28ms/step - loss: 0.0014\n",
      "Epoch 62/100\n",
      "4/4 [==============================] - 0s 28ms/step - loss: 0.0014\n",
      "Epoch 63/100\n",
      "4/4 [==============================] - 0s 28ms/step - loss: 0.0014\n",
      "Epoch 64/100\n",
      "4/4 [==============================] - 0s 29ms/step - loss: 0.0014\n",
      "Epoch 65/100\n",
      "4/4 [==============================] - 0s 29ms/step - loss: 0.0014\n",
      "Epoch 66/100\n",
      "4/4 [==============================] - 0s 28ms/step - loss: 0.0014\n",
      "Epoch 67/100\n",
      "4/4 [==============================] - 0s 28ms/step - loss: 0.0014\n",
      "Epoch 68/100\n",
      "4/4 [==============================] - 0s 28ms/step - loss: 0.0014\n",
      "Epoch 69/100\n",
      "4/4 [==============================] - 0s 28ms/step - loss: 0.0014\n",
      "Epoch 70/100\n",
      "4/4 [==============================] - 0s 28ms/step - loss: 0.0014\n",
      "Epoch 71/100\n",
      "4/4 [==============================] - 0s 30ms/step - loss: 0.0014\n",
      "Epoch 72/100\n",
      "4/4 [==============================] - 0s 30ms/step - loss: 0.0014\n",
      "Epoch 73/100\n",
      "4/4 [==============================] - 0s 29ms/step - loss: 0.0014\n",
      "Epoch 74/100\n",
      "4/4 [==============================] - 0s 32ms/step - loss: 0.0014\n",
      "Epoch 75/100\n",
      "4/4 [==============================] - 0s 29ms/step - loss: 0.0013\n",
      "Epoch 76/100\n",
      "4/4 [==============================] - 0s 30ms/step - loss: 0.0013\n",
      "Epoch 77/100\n",
      "4/4 [==============================] - 0s 31ms/step - loss: 0.0013\n",
      "Epoch 78/100\n",
      "4/4 [==============================] - 0s 29ms/step - loss: 0.0013\n",
      "Epoch 79/100\n",
      "4/4 [==============================] - 0s 28ms/step - loss: 0.0013\n",
      "Epoch 80/100\n",
      "4/4 [==============================] - 0s 28ms/step - loss: 0.0013\n",
      "Epoch 81/100\n",
      "4/4 [==============================] - 0s 29ms/step - loss: 0.0013\n",
      "Epoch 82/100\n",
      "4/4 [==============================] - 0s 29ms/step - loss: 0.0013\n",
      "Epoch 83/100\n",
      "4/4 [==============================] - 0s 29ms/step - loss: 0.0013\n",
      "Epoch 84/100\n",
      "4/4 [==============================] - 0s 30ms/step - loss: 0.0013\n",
      "Epoch 85/100\n",
      "4/4 [==============================] - 0s 31ms/step - loss: 0.0013\n",
      "Epoch 86/100\n",
      "4/4 [==============================] - 0s 28ms/step - loss: 0.0013\n",
      "Epoch 87/100\n",
      "4/4 [==============================] - 0s 28ms/step - loss: 0.0013\n",
      "Epoch 88/100\n",
      "4/4 [==============================] - 0s 28ms/step - loss: 0.0013\n",
      "Epoch 89/100\n",
      "4/4 [==============================] - 0s 29ms/step - loss: 0.0013\n",
      "Epoch 90/100\n",
      "4/4 [==============================] - 0s 30ms/step - loss: 0.0013\n",
      "Epoch 91/100\n",
      "4/4 [==============================] - 0s 29ms/step - loss: 0.0013\n",
      "Epoch 92/100\n",
      "4/4 [==============================] - 0s 30ms/step - loss: 0.0013\n",
      "Epoch 93/100\n",
      "4/4 [==============================] - 0s 29ms/step - loss: 0.0013\n",
      "Epoch 94/100\n",
      "4/4 [==============================] - 0s 29ms/step - loss: 0.0013\n",
      "Epoch 95/100\n",
      "4/4 [==============================] - 0s 29ms/step - loss: 0.0013\n",
      "Epoch 96/100\n",
      "4/4 [==============================] - 0s 28ms/step - loss: 0.0013\n",
      "Epoch 97/100\n",
      "4/4 [==============================] - 0s 29ms/step - loss: 0.0013\n",
      "Epoch 98/100\n",
      "4/4 [==============================] - 0s 28ms/step - loss: 0.0013\n",
      "Epoch 99/100\n",
      "4/4 [==============================] - 0s 28ms/step - loss: 0.0013\n",
      "Epoch 100/100\n",
      "4/4 [==============================] - 0s 28ms/step - loss: 0.0013\n"
     ]
    },
    {
     "data": {
      "text/plain": [
       "<keras.callbacks.History at 0x7f2ab0049220>"
      ]
     },
     "execution_count": 17,
     "metadata": {},
     "output_type": "execute_result"
    }
   ],
   "source": [
    "set_seeds()\n",
    "user_autoencoder.fit(users, users,\n",
    "                epochs=100,\n",
    "                batch_size=256,\n",
    "                shuffle=True)"
   ]
  },
  {
   "cell_type": "markdown",
   "id": "2c49ef73",
   "metadata": {},
   "source": [
    "## 2. encode item info"
   ]
  },
  {
   "cell_type": "code",
   "execution_count": 3,
   "id": "f7b1aa1c",
   "metadata": {},
   "outputs": [
    {
     "name": "stderr",
     "output_type": "stream",
     "text": [
      "/home/seungjoonpark/miniconda3/envs/movielens/lib/python3.9/site-packages/tqdm/auto.py:22: TqdmWarning: IProgress not found. Please update jupyter and ipywidgets. See https://ipywidgets.readthedocs.io/en/stable/user_install.html\n",
      "  from .autonotebook import tqdm as notebook_tqdm\n"
     ]
    }
   ],
   "source": [
    "from transformers import AutoTokenizer\n",
    "from transformers import TFAutoModel\n",
    "from keras.optimizers import Adam"
   ]
  },
  {
   "cell_type": "code",
   "execution_count": 4,
   "id": "59f6d4d2",
   "metadata": {},
   "outputs": [],
   "source": [
    "tokenizer = AutoTokenizer.from_pretrained('roberta-base')"
   ]
  },
  {
   "cell_type": "code",
   "execution_count": 5,
   "id": "707e3201",
   "metadata": {
    "scrolled": false
   },
   "outputs": [
    {
     "name": "stderr",
     "output_type": "stream",
     "text": [
      "<ipython-input-5-5320d435494a>:7: FutureWarning: In a future version of pandas all arguments of read_csv except for the argument 'filepath_or_buffer' will be keyword-only.\n",
      "  item_info = pd.read_csv(os.path.join(data_dir, 'u.item'), '|', names=names,\n"
     ]
    }
   ],
   "source": [
    "names = ['movie_id', 'movie_title', 'release_date', 'video_release_date',\n",
    "              'IMDb_URL', 'unknown', 'Action', 'Adventure', 'Animation',\n",
    "              \"Children's\", \"Comedy\", \"Crime\", \"Documentary\", \"Drama\", \"Fantasy\",\n",
    "              \"Film-Noir\", \"Horror\", \"Musical\", \"Mystery\", \"Romance\", \"Sci-Fi\",\n",
    "              \"Thriller\", \"War\", \"Western\"]\n",
    "data_dir = \"./data/ml-100k\"\n",
    "item_info = pd.read_csv(os.path.join(data_dir, 'u.item'), '|', names=names,\n",
    "                       engine='python', encoding = \"ISO-8859-1\", index_col=False)"
   ]
  },
  {
   "cell_type": "code",
   "execution_count": 6,
   "id": "6c4cc190",
   "metadata": {},
   "outputs": [],
   "source": [
    "item_info.drop(columns=['movie_id', 'video_release_date', 'IMDb_URL'], inplace=True)"
   ]
  },
  {
   "cell_type": "code",
   "execution_count": 19,
   "id": "85dc8e6b",
   "metadata": {},
   "outputs": [],
   "source": [
    "np.save('topic_info.npy', item_info.iloc[:, 2:].values)"
   ]
  },
  {
   "cell_type": "code",
   "execution_count": 7,
   "id": "a1b8e726",
   "metadata": {
    "scrolled": true
   },
   "outputs": [
    {
     "name": "stderr",
     "output_type": "stream",
     "text": [
      "<ipython-input-7-e4080aa4fef7>:1: FutureWarning: The default value of regex will change from True to False in a future version.\n",
      "  item_info['movie_title'] = item_info['movie_title'].str.replace(r\" \\(\\d{4}\\)\",\"\")\n"
     ]
    }
   ],
   "source": [
    "item_info['movie_title'] = item_info['movie_title'].str.replace(r\" \\(\\d{4}\\)\",\"\")"
   ]
  },
  {
   "cell_type": "code",
   "execution_count": 8,
   "id": "ada2318c",
   "metadata": {
    "scrolled": true
   },
   "outputs": [],
   "source": [
    "lm_input = tokenizer(item_info['movie_title'].values.tolist(), return_tensors='tf', truncation=True, padding=True, max_length=8)"
   ]
  },
  {
   "cell_type": "code",
   "execution_count": 9,
   "id": "fc56098b",
   "metadata": {
    "scrolled": false
   },
   "outputs": [
    {
     "name": "stderr",
     "output_type": "stream",
     "text": [
      "Some layers from the model checkpoint at roberta-base were not used when initializing TFRobertaModel: ['lm_head']\n",
      "- This IS expected if you are initializing TFRobertaModel from the checkpoint of a model trained on another task or with another architecture (e.g. initializing a BertForSequenceClassification model from a BertForPreTraining model).\n",
      "- This IS NOT expected if you are initializing TFRobertaModel from the checkpoint of a model that you expect to be exactly identical (initializing a BertForSequenceClassification model from a BertForSequenceClassification model).\n",
      "All the layers of TFRobertaModel were initialized from the model checkpoint at roberta-base.\n",
      "If your task is similar to the task the model of the checkpoint was trained on, you can already use TFRobertaModel for predictions without further training.\n"
     ]
    }
   ],
   "source": [
    "model = TFAutoModel.from_pretrained(\"roberta-base\")"
   ]
  },
  {
   "cell_type": "code",
   "execution_count": 10,
   "id": "1a78866b",
   "metadata": {},
   "outputs": [
    {
     "name": "stderr",
     "output_type": "stream",
     "text": [
      "/home/seungjoonpark/miniconda3/envs/movielens/lib/python3.9/site-packages/tensorflow/python/data/ops/structured_function.py:256: UserWarning: Even though the `tf.config.experimental_run_functions_eagerly` option is set, this option does not apply to tf.data functions. To force eager execution of tf.data functions, please use `tf.data.experimental.enable_debug_mode()`.\n",
      "  warnings.warn(\n"
     ]
    },
    {
     "name": "stdout",
     "output_type": "stream",
     "text": [
      "53/53 [==============================] - 26s 476ms/step\n"
     ]
    }
   ],
   "source": [
    "lm_output = model.predict(lm_input)"
   ]
  },
  {
   "cell_type": "code",
   "execution_count": 13,
   "id": "b2ac8de8",
   "metadata": {},
   "outputs": [
    {
     "data": {
      "text/plain": [
       "(1682, 8, 768)"
      ]
     },
     "execution_count": 13,
     "metadata": {},
     "output_type": "execute_result"
    }
   ],
   "source": [
    "lm_output[0].shape"
   ]
  },
  {
   "cell_type": "code",
   "execution_count": 14,
   "id": "7bb7d988",
   "metadata": {},
   "outputs": [],
   "source": [
    "items = tf.reshape(lm_output[0], (1682, -1))"
   ]
  },
  {
   "cell_type": "code",
   "execution_count": 16,
   "id": "12f2cc18",
   "metadata": {},
   "outputs": [
    {
     "data": {
      "text/plain": [
       "TensorShape([1682, 6144])"
      ]
     },
     "execution_count": 16,
     "metadata": {},
     "output_type": "execute_result"
    }
   ],
   "source": [
    "items.shape"
   ]
  },
  {
   "cell_type": "markdown",
   "id": "643df477",
   "metadata": {
    "scrolled": true
   },
   "source": [
    "###### item_info['release_year'] = item_info['release_date'].str.extract(r'(\\d{4}$)')\n",
    "item_info['release_year'] = item_info['release_year'].apply(lambda x: int(x) if pd.notnull(x) else x)"
   ]
  },
  {
   "cell_type": "code",
   "execution_count": 26,
   "id": "f8535250",
   "metadata": {},
   "outputs": [],
   "source": [
    "item_info['day_sin'] = np.sin(2 * np.pi * (pd.to_datetime(item_info['release_date']).dt.dayofyear/365.0))\n",
    "item_info['day_cos'] = np.cos(2 * np.pi * (pd.to_datetime(item_info['release_date']).dt.dayofyear/365.0))"
   ]
  },
  {
   "cell_type": "code",
   "execution_count": 27,
   "id": "f80903b4",
   "metadata": {},
   "outputs": [],
   "source": [
    "item_info.drop(columns=['release_date'], inplace=True)"
   ]
  },
  {
   "cell_type": "code",
   "execution_count": 28,
   "id": "58e7ee89",
   "metadata": {
    "scrolled": true
   },
   "outputs": [
    {
     "name": "stderr",
     "output_type": "stream",
     "text": [
      "<ipython-input-28-18d38e6314db>:1: FutureWarning: The default value of numeric_only in DataFrame.mean is deprecated. In a future version, it will default to False. In addition, specifying 'numeric_only=None' is deprecated. Select only valid columns or specify the value of numeric_only to silence this warning.\n",
      "  item_info.fillna(item_info.mean(), inplace=True)\n"
     ]
    }
   ],
   "source": [
    "item_info.fillna(item_info.mean(), inplace=True)"
   ]
  },
  {
   "cell_type": "code",
   "execution_count": 29,
   "id": "b829ec5b",
   "metadata": {
    "scrolled": true
   },
   "outputs": [],
   "source": [
    "items = tf.concat((items, tf.convert_to_tensor(item_info.iloc[:, 1:20], dtype=tf.float32)),axis=1)"
   ]
  },
  {
   "cell_type": "code",
   "execution_count": 30,
   "id": "6696c74a",
   "metadata": {},
   "outputs": [
    {
     "data": {
      "text/plain": [
       "TensorShape([1682, 6163])"
      ]
     },
     "execution_count": 30,
     "metadata": {},
     "output_type": "execute_result"
    }
   ],
   "source": [
    "items.shape"
   ]
  },
  {
   "cell_type": "code",
   "execution_count": 31,
   "id": "b3a58adb",
   "metadata": {},
   "outputs": [],
   "source": [
    "numeric_features = item_info.columns.tolist()\n",
    "categorical_feature_names = []\n",
    "binary_feature_names = []\n",
    "\n",
    "inputs = {}\n",
    "for name, column in item_info.items():\n",
    "#     if type(column[0]) == str:\n",
    "#         dtype = tf.string\n",
    "    if (name in categorical_feature_names or\n",
    "        name in binary_feature_names):\n",
    "        dtype = tf.int64\n",
    "    else:\n",
    "        dtype = tf.float32\n",
    "\n",
    "    inputs[name] = tf.keras.Input(shape=(), name=name, dtype=dtype)"
   ]
  },
  {
   "cell_type": "code",
   "execution_count": 32,
   "id": "c0b1661a",
   "metadata": {},
   "outputs": [],
   "source": [
    "preprocessed = []\n",
    "\n",
    "for name in numeric_features[:-3]:\n",
    "    inp = inputs[name]\n",
    "    inp = inp[:, tf.newaxis]\n",
    "    float_value = tf.cast(inp, tf.float32)\n",
    "    preprocessed.append(float_value)"
   ]
  },
  {
   "cell_type": "code",
   "execution_count": 33,
   "id": "37b55cc8",
   "metadata": {},
   "outputs": [],
   "source": [
    "numeric_inputs = {}\n",
    "for name in ['release_year']:\n",
    "    numeric_inputs[name]=inputs[name]\n",
    "\n",
    "numeric_inputs = stack_dict(numeric_inputs)\n",
    "numeric_normalized = normalizer(numeric_inputs)\n",
    "\n",
    "preprocessed.append(numeric_normalized)"
   ]
  },
  {
   "cell_type": "code",
   "execution_count": 34,
   "id": "410e6ad4",
   "metadata": {
    "scrolled": true
   },
   "outputs": [],
   "source": [
    "items = tf.concat((items, tf.squeeze(normalizer(item_info['release_year'].values))[:,tf.newaxis]), axis=1)"
   ]
  },
  {
   "cell_type": "code",
   "execution_count": 35,
   "id": "329b10b7",
   "metadata": {},
   "outputs": [],
   "source": [
    "items = tf.concat((items, tf.convert_to_tensor(item_info.iloc[:,-2:], dtype=tf.float32)), axis=1)"
   ]
  },
  {
   "cell_type": "code",
   "execution_count": 36,
   "id": "3713478f",
   "metadata": {},
   "outputs": [],
   "source": [
    "for name in numeric_features[-2:]:\n",
    "    inp = inputs[name]\n",
    "    inp = inp[:, tf.newaxis]\n",
    "    float_value = tf.cast(inp, tf.float32)\n",
    "    preprocessed.append(float_value)"
   ]
  },
  {
   "cell_type": "code",
   "execution_count": 37,
   "id": "ef96da8f",
   "metadata": {},
   "outputs": [
    {
     "data": {
      "text/plain": [
       "TensorShape([1682, 6166])"
      ]
     },
     "execution_count": 37,
     "metadata": {},
     "output_type": "execute_result"
    }
   ],
   "source": [
    "items.shape"
   ]
  },
  {
   "cell_type": "code",
   "execution_count": 38,
   "id": "629f444c",
   "metadata": {},
   "outputs": [],
   "source": [
    "encoding_dim = 32\n",
    "item_input = keras.Input(shape=(6166,))\n",
    "# \"encoded\" is the encoded representation of the input\n",
    "encoded = tf.keras.layers.BatchNormalization()(item_input)\n",
    "encoded = layers.Dense(1024, activation='leaky_relu')(encoded)\n",
    "encoded = layers.Dense(128, activation='leaky_relu')(encoded)\n",
    "encoded = layers.Dense(32, activation='leaky_relu')(encoded)\n",
    "# \"decoded\" is the lossy reconstruction of the input\n",
    "decoded = layers.Dense(128, activation='leaky_relu')(encoded)\n",
    "decoded = layers.Dense(1024, activation='leaky_relu')(decoded)\n",
    "decoded = layers.Dense(6166)(decoded)\n",
    "\n",
    "\n",
    "item_autoencoder = keras.Model(item_input, decoded)\n",
    "item_autoencoder.compile(optimizer='adam', loss='mse')\n",
    "\n",
    "item_encoder = keras.Model(item_input, encoded)\n",
    "\n",
    "# This is our encoded (32-dimensional) input\n",
    "encoded_input = keras.Input(shape=(encoding_dim,))\n",
    "# Retrieve the last layer of the autoencoder model\n",
    "decoder_output = item_autoencoder.layers[-3](encoded_input)\n",
    "decoder_output = item_autoencoder.layers[-2](decoder_output)\n",
    "decoder_output = item_autoencoder.layers[-1](decoder_output)\n",
    "\n",
    "# Create the decoder model\n",
    "item_decoder = keras.Model(encoded_input, decoder_output)"
   ]
  },
  {
   "cell_type": "code",
   "execution_count": 69,
   "id": "0e2bca46",
   "metadata": {},
   "outputs": [
    {
     "name": "stdout",
     "output_type": "stream",
     "text": [
      "Epoch 1/100\n"
     ]
    },
    {
     "name": "stderr",
     "output_type": "stream",
     "text": [
      "/home/seungjoonpark/miniconda3/envs/movielens/lib/python3.9/site-packages/tensorflow/python/data/ops/structured_function.py:256: UserWarning: Even though the `tf.config.experimental_run_functions_eagerly` option is set, this option does not apply to tf.data functions. To force eager execution of tf.data functions, please use `tf.data.experimental.enable_debug_mode()`.\n",
      "  warnings.warn(\n"
     ]
    },
    {
     "name": "stdout",
     "output_type": "stream",
     "text": [
      "7/7 [==============================] - 1s 164ms/step - loss: 4.0572\n",
      "Epoch 2/100\n",
      "7/7 [==============================] - 1s 163ms/step - loss: 1.7098\n",
      "Epoch 3/100\n",
      "7/7 [==============================] - 1s 162ms/step - loss: 0.6223\n",
      "Epoch 4/100\n",
      "7/7 [==============================] - 1s 164ms/step - loss: 0.3063\n",
      "Epoch 5/100\n",
      "7/7 [==============================] - 1s 162ms/step - loss: 0.2666\n",
      "Epoch 6/100\n",
      "7/7 [==============================] - 1s 163ms/step - loss: 0.1697\n",
      "Epoch 7/100\n",
      "7/7 [==============================] - 1s 167ms/step - loss: 0.1062\n",
      "Epoch 8/100\n",
      "7/7 [==============================] - 1s 163ms/step - loss: 0.0723\n",
      "Epoch 9/100\n",
      "7/7 [==============================] - 1s 165ms/step - loss: 0.0624\n",
      "Epoch 10/100\n",
      "7/7 [==============================] - 1s 163ms/step - loss: 0.0532\n",
      "Epoch 11/100\n",
      "7/7 [==============================] - 1s 164ms/step - loss: 0.0606\n",
      "Epoch 12/100\n",
      "7/7 [==============================] - 1s 163ms/step - loss: 0.0579\n",
      "Epoch 13/100\n",
      "7/7 [==============================] - 1s 169ms/step - loss: 0.0570\n",
      "Epoch 14/100\n",
      "7/7 [==============================] - 1s 166ms/step - loss: 0.0603\n",
      "Epoch 15/100\n",
      "7/7 [==============================] - 1s 164ms/step - loss: 0.0551\n",
      "Epoch 16/100\n",
      "7/7 [==============================] - 1s 165ms/step - loss: 0.0544\n",
      "Epoch 17/100\n",
      "7/7 [==============================] - 1s 162ms/step - loss: 0.0539\n",
      "Epoch 18/100\n",
      "7/7 [==============================] - 1s 165ms/step - loss: 0.0428\n",
      "Epoch 19/100\n",
      "7/7 [==============================] - 1s 163ms/step - loss: 0.0383\n",
      "Epoch 20/100\n",
      "7/7 [==============================] - 1s 162ms/step - loss: 0.0407\n",
      "Epoch 21/100\n",
      "7/7 [==============================] - 1s 162ms/step - loss: 0.0535\n",
      "Epoch 22/100\n",
      "7/7 [==============================] - 1s 163ms/step - loss: 0.0490\n",
      "Epoch 23/100\n",
      "7/7 [==============================] - 1s 168ms/step - loss: 0.0480\n",
      "Epoch 24/100\n",
      "7/7 [==============================] - 1s 163ms/step - loss: 0.0458\n",
      "Epoch 25/100\n",
      "7/7 [==============================] - 1s 163ms/step - loss: 0.0499\n",
      "Epoch 26/100\n",
      "7/7 [==============================] - 1s 161ms/step - loss: 0.0466\n",
      "Epoch 27/100\n",
      "7/7 [==============================] - 1s 164ms/step - loss: 0.0443\n",
      "Epoch 28/100\n",
      "7/7 [==============================] - 1s 167ms/step - loss: 0.0478\n",
      "Epoch 29/100\n",
      "7/7 [==============================] - 1s 164ms/step - loss: 0.0465\n",
      "Epoch 30/100\n",
      "7/7 [==============================] - 1s 164ms/step - loss: 0.0409\n",
      "Epoch 31/100\n",
      "7/7 [==============================] - 1s 165ms/step - loss: 0.0467\n",
      "Epoch 32/100\n",
      "7/7 [==============================] - 1s 168ms/step - loss: 0.0492\n",
      "Epoch 33/100\n",
      "7/7 [==============================] - 1s 164ms/step - loss: 0.0479\n",
      "Epoch 34/100\n",
      "7/7 [==============================] - 1s 164ms/step - loss: 0.0451\n",
      "Epoch 35/100\n",
      "7/7 [==============================] - 1s 163ms/step - loss: 0.0434\n",
      "Epoch 36/100\n",
      "7/7 [==============================] - 1s 164ms/step - loss: 0.0416\n",
      "Epoch 37/100\n",
      "7/7 [==============================] - 1s 163ms/step - loss: 0.0469\n",
      "Epoch 38/100\n",
      "7/7 [==============================] - 1s 163ms/step - loss: 0.0483\n",
      "Epoch 39/100\n",
      "7/7 [==============================] - 1s 162ms/step - loss: 0.0488\n",
      "Epoch 40/100\n",
      "7/7 [==============================] - 1s 164ms/step - loss: 0.0609\n",
      "Epoch 41/100\n",
      "7/7 [==============================] - 1s 164ms/step - loss: 0.0606\n",
      "Epoch 42/100\n",
      "7/7 [==============================] - 1s 163ms/step - loss: 0.0409\n",
      "Epoch 43/100\n",
      "7/7 [==============================] - 1s 164ms/step - loss: 0.0390\n",
      "Epoch 44/100\n",
      "7/7 [==============================] - 1s 164ms/step - loss: 0.0363\n",
      "Epoch 45/100\n",
      "7/7 [==============================] - 1s 162ms/step - loss: 0.0355\n",
      "Epoch 46/100\n",
      "7/7 [==============================] - 1s 162ms/step - loss: 0.0396\n",
      "Epoch 47/100\n",
      "7/7 [==============================] - 1s 163ms/step - loss: 0.0407\n",
      "Epoch 48/100\n",
      "7/7 [==============================] - 1s 160ms/step - loss: 0.0437\n",
      "Epoch 49/100\n",
      "7/7 [==============================] - 1s 161ms/step - loss: 0.0361\n",
      "Epoch 50/100\n",
      "7/7 [==============================] - 1s 164ms/step - loss: 0.0348\n",
      "Epoch 51/100\n",
      "7/7 [==============================] - 1s 166ms/step - loss: 0.0382\n",
      "Epoch 52/100\n",
      "7/7 [==============================] - 1s 165ms/step - loss: 0.0396\n",
      "Epoch 53/100\n",
      "7/7 [==============================] - 1s 166ms/step - loss: 0.0413\n",
      "Epoch 54/100\n",
      "7/7 [==============================] - 1s 160ms/step - loss: 0.0422\n",
      "Epoch 55/100\n",
      "7/7 [==============================] - 1s 163ms/step - loss: 0.0443\n",
      "Epoch 56/100\n",
      "7/7 [==============================] - 1s 165ms/step - loss: 0.0417\n",
      "Epoch 57/100\n",
      "7/7 [==============================] - 1s 165ms/step - loss: 0.0527\n",
      "Epoch 58/100\n",
      "7/7 [==============================] - 1s 165ms/step - loss: 0.0353\n",
      "Epoch 59/100\n",
      "7/7 [==============================] - 1s 163ms/step - loss: 0.0442\n",
      "Epoch 60/100\n",
      "7/7 [==============================] - 1s 161ms/step - loss: 0.0416\n",
      "Epoch 61/100\n",
      "7/7 [==============================] - 1s 162ms/step - loss: 0.0410\n",
      "Epoch 62/100\n",
      "7/7 [==============================] - 1s 163ms/step - loss: 0.0411\n",
      "Epoch 63/100\n",
      "7/7 [==============================] - 1s 165ms/step - loss: 0.0427\n",
      "Epoch 64/100\n",
      "7/7 [==============================] - 1s 164ms/step - loss: 0.0418\n",
      "Epoch 65/100\n",
      "7/7 [==============================] - 1s 162ms/step - loss: 0.0427\n",
      "Epoch 66/100\n",
      "7/7 [==============================] - 1s 163ms/step - loss: 0.0521\n",
      "Epoch 67/100\n",
      "7/7 [==============================] - 1s 166ms/step - loss: 0.0449\n",
      "Epoch 68/100\n",
      "7/7 [==============================] - 1s 165ms/step - loss: 0.0435\n",
      "Epoch 69/100\n",
      "7/7 [==============================] - 1s 163ms/step - loss: 0.0345\n",
      "Epoch 70/100\n",
      "7/7 [==============================] - 1s 165ms/step - loss: 0.0349\n",
      "Epoch 71/100\n",
      "7/7 [==============================] - 1s 163ms/step - loss: 0.0407\n",
      "Epoch 72/100\n",
      "7/7 [==============================] - 1s 163ms/step - loss: 0.0371\n",
      "Epoch 73/100\n",
      "7/7 [==============================] - 1s 164ms/step - loss: 0.0346\n",
      "Epoch 74/100\n",
      "7/7 [==============================] - 1s 163ms/step - loss: 0.0527\n",
      "Epoch 75/100\n",
      "7/7 [==============================] - 1s 163ms/step - loss: 0.0409\n",
      "Epoch 76/100\n",
      "7/7 [==============================] - 1s 166ms/step - loss: 0.0348\n",
      "Epoch 77/100\n",
      "7/7 [==============================] - 1s 162ms/step - loss: 0.0336\n",
      "Epoch 78/100\n",
      "7/7 [==============================] - 1s 165ms/step - loss: 0.0335\n",
      "Epoch 79/100\n",
      "7/7 [==============================] - 1s 167ms/step - loss: 0.0356\n",
      "Epoch 80/100\n",
      "7/7 [==============================] - 1s 166ms/step - loss: 0.0327\n",
      "Epoch 81/100\n",
      "7/7 [==============================] - 1s 162ms/step - loss: 0.0353\n",
      "Epoch 82/100\n",
      "7/7 [==============================] - 1s 165ms/step - loss: 0.0331\n",
      "Epoch 83/100\n",
      "7/7 [==============================] - 1s 167ms/step - loss: 0.0319\n",
      "Epoch 84/100\n",
      "7/7 [==============================] - 1s 164ms/step - loss: 0.0313\n",
      "Epoch 85/100\n",
      "7/7 [==============================] - 1s 164ms/step - loss: 0.0389\n",
      "Epoch 86/100\n",
      "7/7 [==============================] - 1s 164ms/step - loss: 0.0312\n",
      "Epoch 87/100\n",
      "7/7 [==============================] - 1s 165ms/step - loss: 0.0304\n",
      "Epoch 88/100\n",
      "7/7 [==============================] - 1s 159ms/step - loss: 0.0309\n",
      "Epoch 89/100\n",
      "7/7 [==============================] - 1s 162ms/step - loss: 0.0317\n",
      "Epoch 90/100\n",
      "7/7 [==============================] - 1s 164ms/step - loss: 0.0334\n",
      "Epoch 91/100\n",
      "7/7 [==============================] - 1s 165ms/step - loss: 0.0342\n",
      "Epoch 92/100\n",
      "7/7 [==============================] - 1s 162ms/step - loss: 0.0312\n",
      "Epoch 93/100\n",
      "7/7 [==============================] - 1s 166ms/step - loss: 0.0358\n",
      "Epoch 94/100\n",
      "7/7 [==============================] - 1s 163ms/step - loss: 0.0368\n",
      "Epoch 95/100\n",
      "7/7 [==============================] - 1s 165ms/step - loss: 0.0460\n",
      "Epoch 96/100\n",
      "7/7 [==============================] - 1s 163ms/step - loss: 0.0434\n",
      "Epoch 97/100\n",
      "7/7 [==============================] - 1s 164ms/step - loss: 0.0334\n",
      "Epoch 98/100\n",
      "7/7 [==============================] - 1s 164ms/step - loss: 0.0332\n",
      "Epoch 99/100\n",
      "7/7 [==============================] - 1s 162ms/step - loss: 0.0373\n",
      "Epoch 100/100\n",
      "7/7 [==============================] - 1s 164ms/step - loss: 0.0361\n"
     ]
    },
    {
     "data": {
      "text/plain": [
       "<keras.callbacks.History at 0x7f29b86487c0>"
      ]
     },
     "execution_count": 69,
     "metadata": {},
     "output_type": "execute_result"
    }
   ],
   "source": [
    "item_autoencoder.compile(optimizer='adam', loss='mse')\n",
    "\n",
    "set_seeds()\n",
    "item_autoencoder.fit(items, items,\n",
    "                epochs=100,\n",
    "                batch_size=256,\n",
    "                shuffle=True)"
   ]
  },
  {
   "cell_type": "code",
   "execution_count": 70,
   "id": "68b713e8",
   "metadata": {},
   "outputs": [],
   "source": [
    "import tensorflow_addons as tfa"
   ]
  },
  {
   "cell_type": "code",
   "execution_count": 71,
   "id": "a1b2cbc6",
   "metadata": {},
   "outputs": [],
   "source": [
    "hidden_units = 32\n",
    "projection_units = 128\n",
    "num_epochs = 50\n",
    "temperature = 0.05"
   ]
  },
  {
   "cell_type": "code",
   "execution_count": 72,
   "id": "e806efac",
   "metadata": {},
   "outputs": [],
   "source": [
    "class SupervisedContrastiveLoss(keras.losses.Loss):\n",
    "    def __init__(self, temperature=1, name=None):\n",
    "        super(SupervisedContrastiveLoss, self).__init__(name=name)\n",
    "        self.temperature = temperature\n",
    "\n",
    "    def __call__(self, labels, feature_vectors, sample_weight=None):\n",
    "        # Normalize feature vectors\n",
    "        feature_vectors_normalized = tf.math.l2_normalize(feature_vectors, axis=1)\n",
    "        # Compute logits\n",
    "        logits = tf.divide(\n",
    "            tf.matmul(\n",
    "                feature_vectors_normalized, tf.transpose(feature_vectors_normalized)\n",
    "            ),\n",
    "            self.temperature,\n",
    "        )\n",
    "        return tfa.losses.npairs_loss(tf.squeeze(labels), logits)\n"
   ]
  },
  {
   "cell_type": "code",
   "execution_count": 76,
   "id": "bafd293e",
   "metadata": {},
   "outputs": [],
   "source": [
    "def add_projection_head(encoder):\n",
    "    inputs = keras.Input(shape=(6166,))\n",
    "    features = encoder(inputs)\n",
    "    outputs = item_autoencoder.layers[-3](features)\n",
    "    model = keras.Model(\n",
    "        inputs=inputs, outputs=outputs, name=\"encoder_with_projection-head\"\n",
    "    )\n",
    "    return model"
   ]
  },
  {
   "cell_type": "code",
   "execution_count": 77,
   "id": "8232f345",
   "metadata": {},
   "outputs": [],
   "source": [
    "encoder_with_projection_head = add_projection_head(item_encoder)"
   ]
  },
  {
   "cell_type": "code",
   "execution_count": 78,
   "id": "fccb8512",
   "metadata": {},
   "outputs": [],
   "source": [
    "encoder_with_projection_head.compile(\n",
    "    optimizer=\"adam\",\n",
    "    loss=SupervisedContrastiveLoss(temperature),\n",
    ")"
   ]
  },
  {
   "cell_type": "code",
   "execution_count": 95,
   "id": "8ed7768b",
   "metadata": {},
   "outputs": [
    {
     "data": {
      "text/html": [
       "<div>\n",
       "<style scoped>\n",
       "    .dataframe tbody tr th:only-of-type {\n",
       "        vertical-align: middle;\n",
       "    }\n",
       "\n",
       "    .dataframe tbody tr th {\n",
       "        vertical-align: top;\n",
       "    }\n",
       "\n",
       "    .dataframe thead th {\n",
       "        text-align: right;\n",
       "    }\n",
       "</style>\n",
       "<table border=\"1\" class=\"dataframe\">\n",
       "  <thead>\n",
       "    <tr style=\"text-align: right;\">\n",
       "      <th></th>\n",
       "      <th>unknown</th>\n",
       "      <th>Action</th>\n",
       "      <th>Adventure</th>\n",
       "      <th>Animation</th>\n",
       "      <th>Children's</th>\n",
       "      <th>Comedy</th>\n",
       "      <th>Crime</th>\n",
       "      <th>Documentary</th>\n",
       "      <th>Drama</th>\n",
       "      <th>Fantasy</th>\n",
       "      <th>Film-Noir</th>\n",
       "      <th>Horror</th>\n",
       "      <th>Musical</th>\n",
       "      <th>Mystery</th>\n",
       "      <th>Romance</th>\n",
       "      <th>Sci-Fi</th>\n",
       "      <th>Thriller</th>\n",
       "      <th>War</th>\n",
       "      <th>Western</th>\n",
       "    </tr>\n",
       "  </thead>\n",
       "  <tbody>\n",
       "    <tr>\n",
       "      <th>0</th>\n",
       "      <td>0</td>\n",
       "      <td>0</td>\n",
       "      <td>0</td>\n",
       "      <td>1</td>\n",
       "      <td>1</td>\n",
       "      <td>1</td>\n",
       "      <td>0</td>\n",
       "      <td>0</td>\n",
       "      <td>0</td>\n",
       "      <td>0</td>\n",
       "      <td>0</td>\n",
       "      <td>0</td>\n",
       "      <td>0</td>\n",
       "      <td>0</td>\n",
       "      <td>0</td>\n",
       "      <td>0</td>\n",
       "      <td>0</td>\n",
       "      <td>0</td>\n",
       "      <td>0</td>\n",
       "    </tr>\n",
       "    <tr>\n",
       "      <th>1</th>\n",
       "      <td>0</td>\n",
       "      <td>1</td>\n",
       "      <td>1</td>\n",
       "      <td>0</td>\n",
       "      <td>0</td>\n",
       "      <td>0</td>\n",
       "      <td>0</td>\n",
       "      <td>0</td>\n",
       "      <td>0</td>\n",
       "      <td>0</td>\n",
       "      <td>0</td>\n",
       "      <td>0</td>\n",
       "      <td>0</td>\n",
       "      <td>0</td>\n",
       "      <td>0</td>\n",
       "      <td>0</td>\n",
       "      <td>1</td>\n",
       "      <td>0</td>\n",
       "      <td>0</td>\n",
       "    </tr>\n",
       "    <tr>\n",
       "      <th>2</th>\n",
       "      <td>0</td>\n",
       "      <td>0</td>\n",
       "      <td>0</td>\n",
       "      <td>0</td>\n",
       "      <td>0</td>\n",
       "      <td>0</td>\n",
       "      <td>0</td>\n",
       "      <td>0</td>\n",
       "      <td>0</td>\n",
       "      <td>0</td>\n",
       "      <td>0</td>\n",
       "      <td>0</td>\n",
       "      <td>0</td>\n",
       "      <td>0</td>\n",
       "      <td>0</td>\n",
       "      <td>0</td>\n",
       "      <td>1</td>\n",
       "      <td>0</td>\n",
       "      <td>0</td>\n",
       "    </tr>\n",
       "    <tr>\n",
       "      <th>3</th>\n",
       "      <td>0</td>\n",
       "      <td>1</td>\n",
       "      <td>0</td>\n",
       "      <td>0</td>\n",
       "      <td>0</td>\n",
       "      <td>1</td>\n",
       "      <td>0</td>\n",
       "      <td>0</td>\n",
       "      <td>1</td>\n",
       "      <td>0</td>\n",
       "      <td>0</td>\n",
       "      <td>0</td>\n",
       "      <td>0</td>\n",
       "      <td>0</td>\n",
       "      <td>0</td>\n",
       "      <td>0</td>\n",
       "      <td>0</td>\n",
       "      <td>0</td>\n",
       "      <td>0</td>\n",
       "    </tr>\n",
       "    <tr>\n",
       "      <th>4</th>\n",
       "      <td>0</td>\n",
       "      <td>0</td>\n",
       "      <td>0</td>\n",
       "      <td>0</td>\n",
       "      <td>0</td>\n",
       "      <td>0</td>\n",
       "      <td>1</td>\n",
       "      <td>0</td>\n",
       "      <td>1</td>\n",
       "      <td>0</td>\n",
       "      <td>0</td>\n",
       "      <td>0</td>\n",
       "      <td>0</td>\n",
       "      <td>0</td>\n",
       "      <td>0</td>\n",
       "      <td>0</td>\n",
       "      <td>1</td>\n",
       "      <td>0</td>\n",
       "      <td>0</td>\n",
       "    </tr>\n",
       "    <tr>\n",
       "      <th>...</th>\n",
       "      <td>...</td>\n",
       "      <td>...</td>\n",
       "      <td>...</td>\n",
       "      <td>...</td>\n",
       "      <td>...</td>\n",
       "      <td>...</td>\n",
       "      <td>...</td>\n",
       "      <td>...</td>\n",
       "      <td>...</td>\n",
       "      <td>...</td>\n",
       "      <td>...</td>\n",
       "      <td>...</td>\n",
       "      <td>...</td>\n",
       "      <td>...</td>\n",
       "      <td>...</td>\n",
       "      <td>...</td>\n",
       "      <td>...</td>\n",
       "      <td>...</td>\n",
       "      <td>...</td>\n",
       "    </tr>\n",
       "    <tr>\n",
       "      <th>1677</th>\n",
       "      <td>0</td>\n",
       "      <td>0</td>\n",
       "      <td>0</td>\n",
       "      <td>0</td>\n",
       "      <td>0</td>\n",
       "      <td>0</td>\n",
       "      <td>0</td>\n",
       "      <td>0</td>\n",
       "      <td>1</td>\n",
       "      <td>0</td>\n",
       "      <td>0</td>\n",
       "      <td>0</td>\n",
       "      <td>0</td>\n",
       "      <td>0</td>\n",
       "      <td>0</td>\n",
       "      <td>0</td>\n",
       "      <td>0</td>\n",
       "      <td>0</td>\n",
       "      <td>0</td>\n",
       "    </tr>\n",
       "    <tr>\n",
       "      <th>1678</th>\n",
       "      <td>0</td>\n",
       "      <td>0</td>\n",
       "      <td>0</td>\n",
       "      <td>0</td>\n",
       "      <td>0</td>\n",
       "      <td>0</td>\n",
       "      <td>0</td>\n",
       "      <td>0</td>\n",
       "      <td>0</td>\n",
       "      <td>0</td>\n",
       "      <td>0</td>\n",
       "      <td>0</td>\n",
       "      <td>0</td>\n",
       "      <td>0</td>\n",
       "      <td>1</td>\n",
       "      <td>0</td>\n",
       "      <td>1</td>\n",
       "      <td>0</td>\n",
       "      <td>0</td>\n",
       "    </tr>\n",
       "    <tr>\n",
       "      <th>1679</th>\n",
       "      <td>0</td>\n",
       "      <td>0</td>\n",
       "      <td>0</td>\n",
       "      <td>0</td>\n",
       "      <td>0</td>\n",
       "      <td>0</td>\n",
       "      <td>0</td>\n",
       "      <td>0</td>\n",
       "      <td>1</td>\n",
       "      <td>0</td>\n",
       "      <td>0</td>\n",
       "      <td>0</td>\n",
       "      <td>0</td>\n",
       "      <td>0</td>\n",
       "      <td>1</td>\n",
       "      <td>0</td>\n",
       "      <td>0</td>\n",
       "      <td>0</td>\n",
       "      <td>0</td>\n",
       "    </tr>\n",
       "    <tr>\n",
       "      <th>1680</th>\n",
       "      <td>0</td>\n",
       "      <td>0</td>\n",
       "      <td>0</td>\n",
       "      <td>0</td>\n",
       "      <td>0</td>\n",
       "      <td>1</td>\n",
       "      <td>0</td>\n",
       "      <td>0</td>\n",
       "      <td>0</td>\n",
       "      <td>0</td>\n",
       "      <td>0</td>\n",
       "      <td>0</td>\n",
       "      <td>0</td>\n",
       "      <td>0</td>\n",
       "      <td>0</td>\n",
       "      <td>0</td>\n",
       "      <td>0</td>\n",
       "      <td>0</td>\n",
       "      <td>0</td>\n",
       "    </tr>\n",
       "    <tr>\n",
       "      <th>1681</th>\n",
       "      <td>0</td>\n",
       "      <td>0</td>\n",
       "      <td>0</td>\n",
       "      <td>0</td>\n",
       "      <td>0</td>\n",
       "      <td>0</td>\n",
       "      <td>0</td>\n",
       "      <td>0</td>\n",
       "      <td>1</td>\n",
       "      <td>0</td>\n",
       "      <td>0</td>\n",
       "      <td>0</td>\n",
       "      <td>0</td>\n",
       "      <td>0</td>\n",
       "      <td>0</td>\n",
       "      <td>0</td>\n",
       "      <td>0</td>\n",
       "      <td>0</td>\n",
       "      <td>0</td>\n",
       "    </tr>\n",
       "  </tbody>\n",
       "</table>\n",
       "<p>1682 rows × 19 columns</p>\n",
       "</div>"
      ],
      "text/plain": [
       "      unknown  Action  Adventure  Animation  Children's  Comedy  Crime  \\\n",
       "0           0       0          0          1           1       1      0   \n",
       "1           0       1          1          0           0       0      0   \n",
       "2           0       0          0          0           0       0      0   \n",
       "3           0       1          0          0           0       1      0   \n",
       "4           0       0          0          0           0       0      1   \n",
       "...       ...     ...        ...        ...         ...     ...    ...   \n",
       "1677        0       0          0          0           0       0      0   \n",
       "1678        0       0          0          0           0       0      0   \n",
       "1679        0       0          0          0           0       0      0   \n",
       "1680        0       0          0          0           0       1      0   \n",
       "1681        0       0          0          0           0       0      0   \n",
       "\n",
       "      Documentary  Drama  Fantasy  Film-Noir  Horror  Musical  Mystery  \\\n",
       "0               0      0        0          0       0        0        0   \n",
       "1               0      0        0          0       0        0        0   \n",
       "2               0      0        0          0       0        0        0   \n",
       "3               0      1        0          0       0        0        0   \n",
       "4               0      1        0          0       0        0        0   \n",
       "...           ...    ...      ...        ...     ...      ...      ...   \n",
       "1677            0      1        0          0       0        0        0   \n",
       "1678            0      0        0          0       0        0        0   \n",
       "1679            0      1        0          0       0        0        0   \n",
       "1680            0      0        0          0       0        0        0   \n",
       "1681            0      1        0          0       0        0        0   \n",
       "\n",
       "      Romance  Sci-Fi  Thriller  War  Western  \n",
       "0           0       0         0    0        0  \n",
       "1           0       0         1    0        0  \n",
       "2           0       0         1    0        0  \n",
       "3           0       0         0    0        0  \n",
       "4           0       0         1    0        0  \n",
       "...       ...     ...       ...  ...      ...  \n",
       "1677        0       0         0    0        0  \n",
       "1678        1       0         1    0        0  \n",
       "1679        1       0         0    0        0  \n",
       "1680        0       0         0    0        0  \n",
       "1681        0       0         0    0        0  \n",
       "\n",
       "[1682 rows x 19 columns]"
      ]
     },
     "execution_count": 95,
     "metadata": {},
     "output_type": "execute_result"
    }
   ],
   "source": [
    "item_info.iloc[:, 1:20]"
   ]
  },
  {
   "cell_type": "code",
   "execution_count": 44,
   "id": "3ad34828",
   "metadata": {},
   "outputs": [],
   "source": [
    "item_info['total_g'] = item_info.iloc[:,1:20].sum(axis=1)\n",
    "our_interest_idx = item_info.index[item_info['total_g'] == 1]\n",
    "our_interest = tf.gather(items, our_interest_idx.values)\n",
    "labels = item_info.iloc[our_interest_idx].iloc[:, 1:20].idxmax(axis=1)"
   ]
  },
  {
   "cell_type": "code",
   "execution_count": 45,
   "id": "5a326c79",
   "metadata": {},
   "outputs": [],
   "source": [
    "genres = ['unknown', 'Action', 'Adventure', 'Animation',\n",
    "              \"Children's\", \"Comedy\", \"Crime\", \"Documentary\", \"Drama\", \"Fantasy\",\n",
    "              \"Film-Noir\", \"Horror\", \"Musical\", \"Mystery\", \"Romance\", \"Sci-Fi\",\n",
    "              \"Thriller\", \"War\", \"Western\"]"
   ]
  },
  {
   "cell_type": "code",
   "execution_count": 46,
   "id": "800f2dca",
   "metadata": {},
   "outputs": [],
   "source": [
    "# for l, g in enumerate(genres):\n",
    "#     if l == 0:\n",
    "#         idx = labels.index[labels[g].astype(int) == 1]\n",
    "#         new_l = [[l] for _ in range(len(idx))]\n",
    "#         train_labels =  np.array(new_l)\n",
    "#         train_data = np.take(items, idx, axis=0)\n",
    "#     else:\n",
    "#         idx = labels.index[labels[g].astype(int) == 1]\n",
    "#         new_l = [[l] for _ in range(len(idx))]\n",
    "#         train_labels = np.append(train_labels, new_l,axis=0)\n",
    "#         train_data = np.append(train_data, np.take(items, idx, axis=0), axis=0)"
   ]
  },
  {
   "cell_type": "code",
   "execution_count": 47,
   "id": "dab57240",
   "metadata": {},
   "outputs": [],
   "source": [
    "labels = labels.apply(lambda x: genres.index(x))\n",
    "labels = tf.convert_to_tensor(labels.values)"
   ]
  },
  {
   "cell_type": "code",
   "execution_count": 48,
   "id": "75788027",
   "metadata": {},
   "outputs": [
    {
     "data": {
      "text/plain": [
       "array([ 0,  1,  2,  3,  4,  5,  6,  7,  8,  9, 10, 11, 12, 13, 14, 15, 16,\n",
       "       17, 18])"
      ]
     },
     "execution_count": 48,
     "metadata": {},
     "output_type": "execute_result"
    }
   ],
   "source": [
    "np.unique(labels.numpy())"
   ]
  },
  {
   "cell_type": "code",
   "execution_count": 227,
   "id": "abf343be",
   "metadata": {},
   "outputs": [
    {
     "name": "stdout",
     "output_type": "stream",
     "text": [
      "Epoch 1/100\n"
     ]
    },
    {
     "name": "stderr",
     "output_type": "stream",
     "text": [
      "/home/seungjoonpark/miniconda3/envs/movielens/lib/python3.9/site-packages/tensorflow/python/data/ops/structured_function.py:256: UserWarning: Even though the `tf.config.experimental_run_functions_eagerly` option is set, this option does not apply to tf.data functions. To force eager execution of tf.data functions, please use `tf.data.experimental.enable_debug_mode()`.\n",
      "  warnings.warn(\n"
     ]
    },
    {
     "name": "stdout",
     "output_type": "stream",
     "text": [
      "4/4 [==============================] - 0s 92ms/step - loss: 3.7128\n",
      "Epoch 2/100\n",
      "4/4 [==============================] - 0s 97ms/step - loss: 3.7136\n",
      "Epoch 3/100\n",
      "4/4 [==============================] - 0s 95ms/step - loss: 3.7119\n",
      "Epoch 4/100\n",
      "4/4 [==============================] - 0s 95ms/step - loss: 3.7025\n",
      "Epoch 5/100\n",
      "4/4 [==============================] - 0s 97ms/step - loss: 3.7163\n",
      "Epoch 6/100\n",
      "4/4 [==============================] - 0s 93ms/step - loss: 3.7053\n",
      "Epoch 7/100\n",
      "4/4 [==============================] - 0s 94ms/step - loss: 3.7171\n",
      "Epoch 8/100\n",
      "4/4 [==============================] - 0s 93ms/step - loss: 3.7086\n",
      "Epoch 9/100\n",
      "4/4 [==============================] - 0s 94ms/step - loss: 3.7095\n",
      "Epoch 10/100\n",
      "4/4 [==============================] - 0s 95ms/step - loss: 3.7120\n",
      "Epoch 11/100\n",
      "4/4 [==============================] - 0s 93ms/step - loss: 3.7152\n",
      "Epoch 12/100\n",
      "4/4 [==============================] - 0s 95ms/step - loss: 3.7143\n",
      "Epoch 13/100\n",
      "4/4 [==============================] - 0s 97ms/step - loss: 3.7242\n",
      "Epoch 14/100\n",
      "4/4 [==============================] - 0s 93ms/step - loss: 3.7035\n",
      "Epoch 15/100\n",
      "4/4 [==============================] - 0s 94ms/step - loss: 3.7096\n",
      "Epoch 16/100\n",
      "4/4 [==============================] - 0s 93ms/step - loss: 3.7185\n",
      "Epoch 17/100\n",
      "4/4 [==============================] - 0s 96ms/step - loss: 3.7125\n",
      "Epoch 18/100\n",
      "4/4 [==============================] - 0s 94ms/step - loss: 3.7093\n",
      "Epoch 19/100\n",
      "4/4 [==============================] - 0s 92ms/step - loss: 3.7076\n",
      "Epoch 20/100\n",
      "4/4 [==============================] - 0s 93ms/step - loss: 3.7172\n",
      "Epoch 21/100\n",
      "4/4 [==============================] - 0s 94ms/step - loss: 3.7034\n",
      "Epoch 22/100\n",
      "4/4 [==============================] - 0s 93ms/step - loss: 3.7154\n",
      "Epoch 23/100\n",
      "4/4 [==============================] - 0s 94ms/step - loss: 3.7200\n",
      "Epoch 24/100\n",
      "4/4 [==============================] - 0s 95ms/step - loss: 3.7119\n",
      "Epoch 25/100\n",
      "4/4 [==============================] - 0s 95ms/step - loss: 3.7147\n",
      "Epoch 26/100\n",
      "4/4 [==============================] - 0s 92ms/step - loss: 3.7013\n",
      "Epoch 27/100\n",
      "4/4 [==============================] - 0s 93ms/step - loss: 3.7178\n",
      "Epoch 28/100\n",
      "4/4 [==============================] - 0s 96ms/step - loss: 3.7122\n",
      "Epoch 29/100\n",
      "4/4 [==============================] - 0s 93ms/step - loss: 3.7179\n",
      "Epoch 30/100\n",
      "4/4 [==============================] - 0s 94ms/step - loss: 3.7106\n",
      "Epoch 31/100\n",
      "4/4 [==============================] - 0s 95ms/step - loss: 3.7066\n",
      "Epoch 32/100\n",
      "4/4 [==============================] - 0s 95ms/step - loss: 3.7101\n",
      "Epoch 33/100\n",
      "4/4 [==============================] - 0s 95ms/step - loss: 3.7039\n",
      "Epoch 34/100\n",
      "4/4 [==============================] - 0s 92ms/step - loss: 3.7116\n",
      "Epoch 35/100\n",
      "4/4 [==============================] - 0s 93ms/step - loss: 3.7236\n",
      "Epoch 36/100\n",
      "4/4 [==============================] - 0s 96ms/step - loss: 3.7125\n",
      "Epoch 37/100\n",
      "4/4 [==============================] - 0s 92ms/step - loss: 3.7133\n",
      "Epoch 38/100\n",
      "4/4 [==============================] - 0s 95ms/step - loss: 3.7105\n",
      "Epoch 39/100\n",
      "4/4 [==============================] - 0s 93ms/step - loss: 3.7127\n",
      "Epoch 40/100\n",
      "4/4 [==============================] - 0s 93ms/step - loss: 3.7198\n",
      "Epoch 41/100\n",
      "4/4 [==============================] - 0s 95ms/step - loss: 3.7180\n",
      "Epoch 42/100\n",
      "4/4 [==============================] - 0s 93ms/step - loss: 3.7116\n",
      "Epoch 43/100\n",
      "4/4 [==============================] - 0s 93ms/step - loss: 3.7047\n",
      "Epoch 44/100\n",
      "4/4 [==============================] - 0s 94ms/step - loss: 3.7184\n",
      "Epoch 45/100\n",
      "4/4 [==============================] - 0s 92ms/step - loss: 3.7115\n",
      "Epoch 46/100\n",
      "4/4 [==============================] - 0s 95ms/step - loss: 3.7104\n",
      "Epoch 47/100\n",
      "4/4 [==============================] - 0s 96ms/step - loss: 3.7164\n",
      "Epoch 48/100\n",
      "4/4 [==============================] - 0s 96ms/step - loss: 3.7141\n",
      "Epoch 49/100\n",
      "4/4 [==============================] - 0s 95ms/step - loss: 3.7179\n",
      "Epoch 50/100\n",
      "4/4 [==============================] - 0s 96ms/step - loss: 3.7186\n",
      "Epoch 51/100\n",
      "4/4 [==============================] - 0s 96ms/step - loss: 3.7166\n",
      "Epoch 52/100\n",
      "4/4 [==============================] - 0s 96ms/step - loss: 3.7152\n",
      "Epoch 53/100\n",
      "4/4 [==============================] - 0s 93ms/step - loss: 3.7143\n",
      "Epoch 54/100\n",
      "4/4 [==============================] - 0s 95ms/step - loss: 3.7100\n",
      "Epoch 55/100\n",
      "4/4 [==============================] - 0s 94ms/step - loss: 3.7107\n",
      "Epoch 56/100\n",
      "4/4 [==============================] - 0s 93ms/step - loss: 3.7149\n",
      "Epoch 57/100\n",
      "4/4 [==============================] - 0s 94ms/step - loss: 3.7181\n",
      "Epoch 58/100\n",
      "4/4 [==============================] - 0s 98ms/step - loss: 3.7092\n",
      "Epoch 59/100\n",
      "4/4 [==============================] - 0s 95ms/step - loss: 3.6978\n",
      "Epoch 60/100\n",
      "4/4 [==============================] - 0s 95ms/step - loss: 3.7186\n",
      "Epoch 61/100\n",
      "4/4 [==============================] - 0s 93ms/step - loss: 3.7184\n",
      "Epoch 62/100\n",
      "4/4 [==============================] - 0s 93ms/step - loss: 3.7152\n",
      "Epoch 63/100\n",
      "4/4 [==============================] - 0s 95ms/step - loss: 3.7184\n",
      "Epoch 64/100\n",
      "4/4 [==============================] - 0s 96ms/step - loss: 3.7114\n",
      "Epoch 65/100\n",
      "4/4 [==============================] - 0s 91ms/step - loss: 3.7129\n",
      "Epoch 66/100\n",
      "4/4 [==============================] - 0s 92ms/step - loss: 3.7124\n",
      "Epoch 67/100\n",
      "4/4 [==============================] - 0s 94ms/step - loss: 3.7124\n",
      "Epoch 68/100\n",
      "4/4 [==============================] - 0s 93ms/step - loss: 3.7113\n",
      "Epoch 69/100\n",
      "4/4 [==============================] - 0s 96ms/step - loss: 3.7168\n",
      "Epoch 70/100\n",
      "4/4 [==============================] - 0s 94ms/step - loss: 3.7064\n",
      "Epoch 71/100\n",
      "4/4 [==============================] - 0s 91ms/step - loss: 3.7146\n",
      "Epoch 72/100\n",
      "4/4 [==============================] - 0s 93ms/step - loss: 3.7139\n",
      "Epoch 73/100\n",
      "4/4 [==============================] - 0s 96ms/step - loss: 3.7087\n",
      "Epoch 74/100\n",
      "4/4 [==============================] - 0s 94ms/step - loss: 3.7111\n",
      "Epoch 75/100\n",
      "4/4 [==============================] - 0s 92ms/step - loss: 3.7116\n",
      "Epoch 76/100\n",
      "4/4 [==============================] - 0s 98ms/step - loss: 3.7176\n",
      "Epoch 77/100\n",
      "4/4 [==============================] - 0s 96ms/step - loss: 3.7108\n",
      "Epoch 78/100\n",
      "4/4 [==============================] - 0s 94ms/step - loss: 3.7076\n",
      "Epoch 79/100\n",
      "4/4 [==============================] - 0s 95ms/step - loss: 3.7079\n",
      "Epoch 80/100\n",
      "4/4 [==============================] - 0s 96ms/step - loss: 3.7223\n",
      "Epoch 81/100\n",
      "4/4 [==============================] - 0s 93ms/step - loss: 3.7161\n",
      "Epoch 82/100\n",
      "4/4 [==============================] - 0s 95ms/step - loss: 3.7232\n",
      "Epoch 83/100\n",
      "4/4 [==============================] - 0s 94ms/step - loss: 3.7129\n",
      "Epoch 84/100\n",
      "4/4 [==============================] - 0s 94ms/step - loss: 3.7073\n",
      "Epoch 85/100\n",
      "4/4 [==============================] - 0s 95ms/step - loss: 3.7133\n",
      "Epoch 86/100\n",
      "4/4 [==============================] - 0s 95ms/step - loss: 3.7139\n",
      "Epoch 87/100\n",
      "4/4 [==============================] - 0s 98ms/step - loss: 3.7212\n",
      "Epoch 88/100\n",
      "4/4 [==============================] - 0s 95ms/step - loss: 3.7098\n",
      "Epoch 89/100\n",
      "4/4 [==============================] - 0s 93ms/step - loss: 3.7171\n",
      "Epoch 90/100\n",
      "4/4 [==============================] - 0s 94ms/step - loss: 3.7190\n",
      "Epoch 91/100\n",
      "4/4 [==============================] - 0s 93ms/step - loss: 3.7025\n",
      "Epoch 92/100\n",
      "4/4 [==============================] - 0s 92ms/step - loss: 3.7085\n",
      "Epoch 93/100\n",
      "4/4 [==============================] - 0s 93ms/step - loss: 3.7228\n",
      "Epoch 94/100\n",
      "4/4 [==============================] - 0s 92ms/step - loss: 3.7128\n",
      "Epoch 95/100\n",
      "4/4 [==============================] - 0s 95ms/step - loss: 3.7075\n",
      "Epoch 96/100\n",
      "4/4 [==============================] - 0s 96ms/step - loss: 3.7106\n",
      "Epoch 97/100\n",
      "4/4 [==============================] - 0s 92ms/step - loss: 3.7144\n",
      "Epoch 98/100\n",
      "4/4 [==============================] - 0s 95ms/step - loss: 3.7099\n",
      "Epoch 99/100\n",
      "4/4 [==============================] - 0s 97ms/step - loss: 3.7235\n",
      "Epoch 100/100\n",
      "4/4 [==============================] - 0s 95ms/step - loss: 3.7155\n"
     ]
    },
    {
     "data": {
      "text/plain": [
       "<keras.callbacks.History at 0x7f2938a24130>"
      ]
     },
     "execution_count": 227,
     "metadata": {},
     "output_type": "execute_result"
    }
   ],
   "source": [
    "set_seeds()\n",
    "encoder_with_projection_head.fit(\n",
    "    x=our_interest, y=labels, batch_size=256, epochs=100\n",
    ")"
   ]
  },
  {
   "cell_type": "markdown",
   "id": "13294967",
   "metadata": {},
   "source": [
    "## contrastive learning for User/item pair"
   ]
  },
  {
   "cell_type": "code",
   "execution_count": 52,
   "id": "26b0f908",
   "metadata": {},
   "outputs": [
    {
     "data": {
      "text/html": [
       "<div>\n",
       "<style scoped>\n",
       "    .dataframe tbody tr th:only-of-type {\n",
       "        vertical-align: middle;\n",
       "    }\n",
       "\n",
       "    .dataframe tbody tr th {\n",
       "        vertical-align: top;\n",
       "    }\n",
       "\n",
       "    .dataframe thead th {\n",
       "        text-align: right;\n",
       "    }\n",
       "</style>\n",
       "<table border=\"1\" class=\"dataframe\">\n",
       "  <thead>\n",
       "    <tr style=\"text-align: right;\">\n",
       "      <th></th>\n",
       "      <th>user_id</th>\n",
       "      <th>item_id</th>\n",
       "      <th>rating</th>\n",
       "      <th>timestamp</th>\n",
       "    </tr>\n",
       "  </thead>\n",
       "  <tbody>\n",
       "    <tr>\n",
       "      <th>0</th>\n",
       "      <td>196</td>\n",
       "      <td>242</td>\n",
       "      <td>3</td>\n",
       "      <td>881250949</td>\n",
       "    </tr>\n",
       "    <tr>\n",
       "      <th>1</th>\n",
       "      <td>186</td>\n",
       "      <td>302</td>\n",
       "      <td>3</td>\n",
       "      <td>891717742</td>\n",
       "    </tr>\n",
       "    <tr>\n",
       "      <th>2</th>\n",
       "      <td>22</td>\n",
       "      <td>377</td>\n",
       "      <td>1</td>\n",
       "      <td>878887116</td>\n",
       "    </tr>\n",
       "    <tr>\n",
       "      <th>3</th>\n",
       "      <td>244</td>\n",
       "      <td>51</td>\n",
       "      <td>2</td>\n",
       "      <td>880606923</td>\n",
       "    </tr>\n",
       "    <tr>\n",
       "      <th>4</th>\n",
       "      <td>166</td>\n",
       "      <td>346</td>\n",
       "      <td>1</td>\n",
       "      <td>886397596</td>\n",
       "    </tr>\n",
       "  </tbody>\n",
       "</table>\n",
       "</div>"
      ],
      "text/plain": [
       "  user_id item_id rating  timestamp\n",
       "0     196     242      3  881250949\n",
       "1     186     302      3  891717742\n",
       "2      22     377      1  878887116\n",
       "3     244      51      2  880606923\n",
       "4     166     346      1  886397596"
      ]
     },
     "execution_count": 52,
     "metadata": {},
     "output_type": "execute_result"
    }
   ],
   "source": [
    "user_ids = []\n",
    "item_ids = []\n",
    "ratings = []\n",
    "timestamps = []\n",
    "\n",
    "with open(\"./data/ml-100k/u.data\", 'rt') as file1:\n",
    "    for line in file1.readlines():\n",
    "        a = line.split()\n",
    "        user_ids.append(a[0])\n",
    "        item_ids.append(a[1])\n",
    "        ratings.append(a[2])\n",
    "        timestamps.append(a[3])\n",
    "    \n",
    "rating_df = pd.DataFrame({'user_id': user_ids, 'item_id': item_ids, 'rating': ratings, 'timestamp': timestamps})\n",
    "rating_df.head()"
   ]
  },
  {
   "cell_type": "code",
   "execution_count": 61,
   "id": "2bf421e9",
   "metadata": {},
   "outputs": [],
   "source": [
    "rating_df.drop(rating_df[rating_df['rating']=='3'].index, inplace=True)"
   ]
  },
  {
   "cell_type": "code",
   "execution_count": 63,
   "id": "06d99234",
   "metadata": {},
   "outputs": [],
   "source": [
    "clicked = {1: 0., 2: 0., 3: 0., 4: 1., 5: 1.}\n",
    "rating_df['rating']=rating_df['rating'].apply(lambda x: clicked[int(x)])"
   ]
  },
  {
   "cell_type": "code",
   "execution_count": 66,
   "id": "254b8379",
   "metadata": {},
   "outputs": [],
   "source": [
    "pair_labels = rating_df['rating'].values"
   ]
  },
  {
   "cell_type": "code",
   "execution_count": 68,
   "id": "1088ea06",
   "metadata": {},
   "outputs": [],
   "source": [
    "rating_df['user_id'] = rating_df['user_id'].astype(int)-1\n",
    "rating_df['item_id'] = rating_df['item_id'].astype(int)-1\n",
    "user = tf.gather(users, rating_df.user_id.values)\n",
    "item = tf.gather(items, rating_df.item_id.values)"
   ]
  },
  {
   "cell_type": "code",
   "execution_count": null,
   "id": "e13b135e",
   "metadata": {},
   "outputs": [],
   "source": [
    "user_input = Input(shape=(818,))\n",
    "item_input = Input(shape=(6165,))\n",
    "\n"
   ]
  },
  {
   "cell_type": "markdown",
   "id": "7f3bffcc",
   "metadata": {},
   "source": [
    "## User-Item match dataset"
   ]
  },
  {
   "cell_type": "code",
   "execution_count": 72,
   "id": "79e74a07",
   "metadata": {
    "scrolled": true
   },
   "outputs": [
    {
     "data": {
      "text/html": [
       "<div>\n",
       "<style scoped>\n",
       "    .dataframe tbody tr th:only-of-type {\n",
       "        vertical-align: middle;\n",
       "    }\n",
       "\n",
       "    .dataframe tbody tr th {\n",
       "        vertical-align: top;\n",
       "    }\n",
       "\n",
       "    .dataframe thead th {\n",
       "        text-align: right;\n",
       "    }\n",
       "</style>\n",
       "<table border=\"1\" class=\"dataframe\">\n",
       "  <thead>\n",
       "    <tr style=\"text-align: right;\">\n",
       "      <th></th>\n",
       "      <th>user_id</th>\n",
       "      <th>item_id</th>\n",
       "      <th>rating</th>\n",
       "      <th>timestamp</th>\n",
       "    </tr>\n",
       "  </thead>\n",
       "  <tbody>\n",
       "    <tr>\n",
       "      <th>0</th>\n",
       "      <td>196</td>\n",
       "      <td>242</td>\n",
       "      <td>3</td>\n",
       "      <td>881250949</td>\n",
       "    </tr>\n",
       "    <tr>\n",
       "      <th>1</th>\n",
       "      <td>186</td>\n",
       "      <td>302</td>\n",
       "      <td>3</td>\n",
       "      <td>891717742</td>\n",
       "    </tr>\n",
       "    <tr>\n",
       "      <th>2</th>\n",
       "      <td>22</td>\n",
       "      <td>377</td>\n",
       "      <td>1</td>\n",
       "      <td>878887116</td>\n",
       "    </tr>\n",
       "    <tr>\n",
       "      <th>3</th>\n",
       "      <td>244</td>\n",
       "      <td>51</td>\n",
       "      <td>2</td>\n",
       "      <td>880606923</td>\n",
       "    </tr>\n",
       "    <tr>\n",
       "      <th>4</th>\n",
       "      <td>166</td>\n",
       "      <td>346</td>\n",
       "      <td>1</td>\n",
       "      <td>886397596</td>\n",
       "    </tr>\n",
       "  </tbody>\n",
       "</table>\n",
       "</div>"
      ],
      "text/plain": [
       "  user_id item_id rating  timestamp\n",
       "0     196     242      3  881250949\n",
       "1     186     302      3  891717742\n",
       "2      22     377      1  878887116\n",
       "3     244      51      2  880606923\n",
       "4     166     346      1  886397596"
      ]
     },
     "execution_count": 72,
     "metadata": {},
     "output_type": "execute_result"
    }
   ],
   "source": [
    "user_ids = []\n",
    "item_ids = []\n",
    "ratings = []\n",
    "timestamps = []\n",
    "\n",
    "with open(\"./data/ml-100k/u.data\", 'rt') as file1:\n",
    "    for line in file1.readlines():\n",
    "        a = line.split()\n",
    "        user_ids.append(a[0])\n",
    "        item_ids.append(a[1])\n",
    "        ratings.append(a[2])\n",
    "        timestamps.append(a[3])\n",
    "    \n",
    "rating_df = pd.DataFrame({'user_id': user_ids, 'item_id': item_ids, 'rating': ratings, 'timestamp': timestamps})\n",
    "rating_df.head()"
   ]
  },
  {
   "cell_type": "code",
   "execution_count": 73,
   "id": "f3739933",
   "metadata": {},
   "outputs": [],
   "source": [
    "clicked = {1: 0., 2: 0., 3: 0., 4: 1., 5: 1.}\n",
    "rating_df['rating']=rating_df['rating'].apply(lambda x: clicked[int(x)])"
   ]
  },
  {
   "cell_type": "code",
   "execution_count": 74,
   "id": "1ba259e5",
   "metadata": {
    "scrolled": true
   },
   "outputs": [],
   "source": [
    "# tf.map_fn(tf.one_hot, tf.convert_to_tensor(rating_df['rating'].values))"
   ]
  },
  {
   "cell_type": "code",
   "execution_count": null,
   "id": "2c9512a4",
   "metadata": {},
   "outputs": [],
   "source": [
    "sigmoid = lambda x: 1/(1 + np.exp(-x))\n",
    "rating_similarity = {1: sigmoid(-4.), 2: sigmoid(-2.), 3: sigmoid(0.), 4: sigmoid(2.), 5: sigmoid(4.)}"
   ]
  },
  {
   "cell_type": "code",
   "execution_count": 76,
   "id": "26ae4736",
   "metadata": {},
   "outputs": [],
   "source": [
    "rat"
   ]
  },
  {
   "cell_type": "code",
   "execution_count": 77,
   "id": "9b5ecb0f",
   "metadata": {
    "scrolled": true
   },
   "outputs": [],
   "source": [
    "# rating_df['rating']=rating_df['rating'].apply(lambda x: rating_similarity[int(x)])"
   ]
  },
  {
   "cell_type": "code",
   "execution_count": 78,
   "id": "e7dbe4b8",
   "metadata": {},
   "outputs": [],
   "source": [
    "rating_df.drop(columns=['timestamp'], inplace=True)"
   ]
  },
  {
   "cell_type": "code",
   "execution_count": 79,
   "id": "a04460c0",
   "metadata": {},
   "outputs": [],
   "source": [
    "rating_df['user_id'] = rating_df['user_id'].astype(int)-1\n",
    "rating_df['item_id'] = rating_df['item_id'].astype(int)-1"
   ]
  },
  {
   "cell_type": "code",
   "execution_count": 80,
   "id": "e98669d5",
   "metadata": {},
   "outputs": [],
   "source": [
    "user = tf.gather(users, rating_df.user_id.values)\n",
    "item = tf.gather(items, rating_df.item_id.values)"
   ]
  },
  {
   "cell_type": "code",
   "execution_count": 81,
   "id": "d56f525c",
   "metadata": {},
   "outputs": [],
   "source": [
    "# dataset = tf.data.Dataset.from_tensor_slices((user, item, tf.convert_to_tensor(rating_df['rating'].values)))"
   ]
  },
  {
   "cell_type": "code",
   "execution_count": 83,
   "id": "44aa8fa5",
   "metadata": {},
   "outputs": [],
   "source": [
    "user_input = Input(shape=(818,))\n",
    "item_input = Input(shape=(6165,))\n",
    "user_feat = user_encoder(user_input)\n",
    "user_encoder.trainable = False\n",
    "# reordering layer\n",
    "user_feat = layers.Dense(32)(user_feat)\n",
    "item_feat = item_encoder(item_input)\n",
    "item_encoder.trainable = False\n",
    "# reordering layer\n",
    "item_feat = layers.Dense(32)(item_feat)\n",
    "outputs = tf.keras.layers.Dot(axes=1)([user_feat, item_feat])\n",
    "outputs =  tf.keras.activations.sigmoid(outputs)"
   ]
  },
  {
   "cell_type": "code",
   "execution_count": 84,
   "id": "24cb14f3",
   "metadata": {},
   "outputs": [],
   "source": [
    "model = Model(inputs=[user_input, item_input], outputs=outputs)"
   ]
  },
  {
   "cell_type": "code",
   "execution_count": 85,
   "id": "ab8341f5",
   "metadata": {},
   "outputs": [],
   "source": [
    "initial_learning_rate = 0.01\n",
    "lr_schedule = tf.keras.optimizers.schedules.ExponentialDecay(\n",
    "    initial_learning_rate,\n",
    "    decay_steps=200,\n",
    "    decay_rate=0.96,\n",
    "    staircase=True)"
   ]
  },
  {
   "cell_type": "code",
   "execution_count": 101,
   "id": "01e9ecf3",
   "metadata": {},
   "outputs": [],
   "source": [
    "model.compile(loss=\"binary_crossentropy\", optimizer=tf.keras.optimizers.Adam(learning_rate=lr_schedule),\n",
    "\tmetrics=[\"accuracy\"])"
   ]
  },
  {
   "cell_type": "code",
   "execution_count": 102,
   "id": "52317a68",
   "metadata": {},
   "outputs": [
    {
     "data": {
      "text/plain": [
       "<tensorflow.python.checkpoint.checkpoint.CheckpointLoadStatus at 0x7f2f85b85370>"
      ]
     },
     "execution_count": 102,
     "metadata": {},
     "output_type": "execute_result"
    }
   ],
   "source": [
    "model.load_weights('./checkpoints/score_model_cross')"
   ]
  },
  {
   "cell_type": "code",
   "execution_count": 103,
   "id": "1c0665a3",
   "metadata": {},
   "outputs": [],
   "source": [
    "user_encoder = keras.Model(user_input, user_feat)\n",
    "item_encoder = keras.Model(item_input, item_feat)"
   ]
  },
  {
   "cell_type": "code",
   "execution_count": 89,
   "id": "e599af74",
   "metadata": {},
   "outputs": [
    {
     "data": {
      "text/plain": [
       "<tf.Tensor: shape=(943, 32), dtype=float32, numpy=\n",
       "array([[ 0.06471726,  0.14580399, -0.04886822, ..., -0.06411254,\n",
       "        -0.05549216,  0.03660396],\n",
       "       [-0.01825669,  0.16883862, -0.02001277, ..., -0.09270785,\n",
       "        -0.0853997 ,  0.09662438],\n",
       "       [ 0.2329463 , -0.06012689,  0.05843551, ..., -0.18792096,\n",
       "         0.11835526,  0.05206817],\n",
       "       ...,\n",
       "       [-0.07993348,  0.18968599,  0.09113791, ..., -0.05886102,\n",
       "         0.0343435 , -0.03377326],\n",
       "       [ 0.05947705,  0.24741687,  0.04941652, ..., -0.01677305,\n",
       "        -0.07202731,  0.06945418],\n",
       "       [ 0.0538527 ,  0.11295451,  0.08264452, ..., -0.00058282,\n",
       "         0.1939039 , -0.10428812]], dtype=float32)>"
      ]
     },
     "execution_count": 89,
     "metadata": {},
     "output_type": "execute_result"
    }
   ],
   "source": [
    "user_encoder(users)"
   ]
  },
  {
   "cell_type": "code",
   "execution_count": 90,
   "id": "d6a2d4ab",
   "metadata": {},
   "outputs": [],
   "source": [
    "user_latent = np.load('user2.npy')"
   ]
  },
  {
   "cell_type": "code",
   "execution_count": 106,
   "id": "0d067834",
   "metadata": {},
   "outputs": [
    {
     "data": {
      "text/plain": [
       "<tensorflow.python.checkpoint.checkpoint.CheckpointLoadStatus at 0x7f2f2e123970>"
      ]
     },
     "execution_count": 106,
     "metadata": {},
     "output_type": "execute_result"
    }
   ],
   "source": [
    "item_encoder.load_weights('./checkpoints/item_encoder_cross')"
   ]
  },
  {
   "cell_type": "code",
   "execution_count": 105,
   "id": "4216eae4",
   "metadata": {},
   "outputs": [
    {
     "name": "stdout",
     "output_type": "stream",
     "text": [
      "53/53 [==============================] - 0s 7ms/step\n"
     ]
    }
   ],
   "source": [
    "temp = item_encoder.predict(items)"
   ]
  },
  {
   "cell_type": "code",
   "execution_count": 97,
   "id": "55ac60e2",
   "metadata": {},
   "outputs": [],
   "source": [
    "item_latent = np.load('item2.npy')"
   ]
  },
  {
   "cell_type": "code",
   "execution_count": 107,
   "id": "87e657b1",
   "metadata": {},
   "outputs": [
    {
     "name": "stdout",
     "output_type": "stream",
     "text": [
      "53/53 [==============================] - 0s 6ms/step\n"
     ]
    },
    {
     "data": {
      "text/plain": [
       "array([[ True,  True,  True, ...,  True,  True,  True],\n",
       "       [ True,  True,  True, ...,  True,  True,  True],\n",
       "       [ True,  True,  True, ...,  True,  True,  True],\n",
       "       ...,\n",
       "       [ True,  True,  True, ...,  True,  True,  True],\n",
       "       [ True,  True,  True, ...,  True,  True,  True],\n",
       "       [ True,  True,  True, ...,  True,  True,  True]])"
      ]
     },
     "execution_count": 107,
     "metadata": {},
     "output_type": "execute_result"
    }
   ],
   "source": [
    "item_encoder.predict(items) == temp"
   ]
  },
  {
   "cell_type": "code",
   "execution_count": 108,
   "id": "91b3f1b2",
   "metadata": {},
   "outputs": [
    {
     "name": "stdout",
     "output_type": "stream",
     "text": [
      "30/30 [==============================] - 0s 2ms/step\n"
     ]
    }
   ],
   "source": [
    "temp2 = user_encoder.predict(users)"
   ]
  },
  {
   "cell_type": "code",
   "execution_count": 109,
   "id": "cb8b9b61",
   "metadata": {},
   "outputs": [
    {
     "data": {
      "text/plain": [
       "<tensorflow.python.checkpoint.checkpoint.CheckpointLoadStatus at 0x7f2f85b7ab20>"
      ]
     },
     "execution_count": 109,
     "metadata": {},
     "output_type": "execute_result"
    }
   ],
   "source": [
    "user_encoder.load_weights('./checkpoints/user_encoder_cross')"
   ]
  },
  {
   "cell_type": "code",
   "execution_count": 110,
   "id": "2ac1058d",
   "metadata": {},
   "outputs": [
    {
     "name": "stdout",
     "output_type": "stream",
     "text": [
      "30/30 [==============================] - 0s 2ms/step\n"
     ]
    },
    {
     "data": {
      "text/plain": [
       "array([[ True,  True,  True, ...,  True,  True,  True],\n",
       "       [ True,  True,  True, ...,  True,  True,  True],\n",
       "       [ True,  True,  True, ...,  True,  True,  True],\n",
       "       ...,\n",
       "       [ True,  True,  True, ...,  True,  True,  True],\n",
       "       [ True,  True,  True, ...,  True,  True,  True],\n",
       "       [ True,  True,  True, ...,  True,  True,  True]])"
      ]
     },
     "execution_count": 110,
     "metadata": {},
     "output_type": "execute_result"
    }
   ],
   "source": [
    "user_encoder.predict(users) == temp2"
   ]
  },
  {
   "cell_type": "code",
   "execution_count": 100,
   "id": "002f527a",
   "metadata": {},
   "outputs": [],
   "source": [
    "user_latent = np.load('user2.npy')"
   ]
  },
  {
   "cell_type": "code",
   "execution_count": 102,
   "id": "c6475215",
   "metadata": {},
   "outputs": [
    {
     "data": {
      "text/plain": [
       "<tensorflow.python.checkpoint.checkpoint.CheckpointLoadStatus at 0x7fec668161f0>"
      ]
     },
     "execution_count": 102,
     "metadata": {},
     "output_type": "execute_result"
    }
   ],
   "source": [
    "user_encoder.load_weights('./checkpoints/user_encoder_cross')"
   ]
  },
  {
   "cell_type": "code",
   "execution_count": 39,
   "id": "b32824d5",
   "metadata": {},
   "outputs": [],
   "source": [
    "from sklearn.manifold import TSNE\n",
    "import matplotlib.pyplot as plt"
   ]
  },
  {
   "cell_type": "code",
   "execution_count": 40,
   "id": "f91b15f6",
   "metadata": {},
   "outputs": [
    {
     "ename": "NameError",
     "evalue": "name 'user_encoder' is not defined",
     "output_type": "error",
     "traceback": [
      "\u001b[0;31m---------------------------------------------------------------------------\u001b[0m",
      "\u001b[0;31mNameError\u001b[0m                                 Traceback (most recent call last)",
      "Cell \u001b[0;32mIn[40], line 1\u001b[0m\n\u001b[0;32m----> 1\u001b[0m user_features \u001b[38;5;241m=\u001b[39m \u001b[43muser_encoder\u001b[49m(users)\u001b[38;5;241m.\u001b[39mnumpy()\n",
      "\u001b[0;31mNameError\u001b[0m: name 'user_encoder' is not defined"
     ]
    }
   ],
   "source": [
    "user_features = user_encoder(users).numpy()"
   ]
  },
  {
   "cell_type": "code",
   "execution_count": 118,
   "id": "a9002a56",
   "metadata": {},
   "outputs": [],
   "source": [
    "utsne = TSNE(n_components=2).fit_transform(user_features)"
   ]
  },
  {
   "cell_type": "code",
   "execution_count": 50,
   "id": "472f9e33",
   "metadata": {},
   "outputs": [],
   "source": [
    "def scale_to_01_range(x):\n",
    "    # compute the distribution range\n",
    "    value_range = (np.max(x) - np.min(x))\n",
    " \n",
    "    # move the distribution so that it starts from zero\n",
    "    # by extracting the minimal value from all its values\n",
    "    starts_from_zero = x - np.min(x)\n",
    " \n",
    "    # make the distribution fit [0; 1] by dividing by its range\n",
    "    return starts_from_zero / value_range"
   ]
  },
  {
   "cell_type": "code",
   "execution_count": 121,
   "id": "40275bba",
   "metadata": {},
   "outputs": [],
   "source": [
    "# extract x and y coordinates representing the positions of the images on T-SNE plot\n",
    "tx = utsne[:, 0]\n",
    "ty = utsne[:, 1]\n",
    " \n",
    "tx = scale_to_01_range(tx)\n",
    "ty = scale_to_01_range(ty)"
   ]
  },
  {
   "cell_type": "code",
   "execution_count": 126,
   "id": "3d510665",
   "metadata": {},
   "outputs": [
    {
     "data": {
      "text/plain": [
       "<matplotlib.collections.PathCollection at 0x7f2e1d7b3d30>"
      ]
     },
     "execution_count": 126,
     "metadata": {},
     "output_type": "execute_result"
    },
    {
     "data": {
      "image/png": "[encoded data removed]",
      "text/plain": [
       "<Figure size 432x288 with 1 Axes>"
      ]
     },
     "metadata": {
      "needs_background": "light"
     },
     "output_type": "display_data"
    }
   ],
   "source": [
    "fig = plt.figure()\n",
    "ax = fig.add_subplot(111)\n",
    "\n",
    "ax.scatter(tx, ty)"
   ]
  },
  {
   "cell_type": "code",
   "execution_count": 249,
   "id": "9395bb94",
   "metadata": {},
   "outputs": [
    {
     "data": {
      "text/plain": [
       "<tf.Tensor: shape=(1, 1), dtype=float32, numpy=array([[17.275436]], dtype=float32)>"
      ]
     },
     "execution_count": 249,
     "metadata": {},
     "output_type": "execute_result"
    }
   ],
   "source": [
    "user_features = np.load('con_user_final2.npy')\n",
    "tf.linalg.normalize(user_features)[1]\n"
   ]
  },
  {
   "cell_type": "code",
   "execution_count": 228,
   "id": "ad810719",
   "metadata": {},
   "outputs": [
    {
     "data": {
      "text/plain": [
       "<tf.Tensor: shape=(1, 1), dtype=float32, numpy=array([[13.134984]], dtype=float32)>"
      ]
     },
     "execution_count": 228,
     "metadata": {},
     "output_type": "execute_result"
    }
   ],
   "source": [
    "user_features = np.load('con_user_final3.npy')\n",
    "tf.linalg.normalize(user_features)[1]"
   ]
  },
  {
   "cell_type": "code",
   "execution_count": 101,
   "id": "ad0402c8",
   "metadata": {},
   "outputs": [
    {
     "data": {
      "text/plain": [
       "<tf.Tensor: shape=(1, 1), dtype=float32, numpy=array([[2942.8796]], dtype=float32)>"
      ]
     },
     "execution_count": 101,
     "metadata": {},
     "output_type": "execute_result"
    }
   ],
   "source": [
    "item_features = np.load('item2.npy')\n",
    "tf.linalg.normalize(item_features)[1]"
   ]
  },
  {
   "cell_type": "code",
   "execution_count": 248,
   "id": "c9cf9554",
   "metadata": {},
   "outputs": [
    {
     "data": {
      "text/plain": [
       "<tf.Tensor: shape=(1, 1), dtype=float32, numpy=array([[4609.248]], dtype=float32)>"
      ]
     },
     "execution_count": 248,
     "metadata": {},
     "output_type": "execute_result"
    }
   ],
   "source": [
    "item_features = np.load('con_item_final2.npy')\n",
    "tf.linalg.normalize(item_features)[1]"
   ]
  },
  {
   "cell_type": "code",
   "execution_count": null,
   "id": "e17b50e5",
   "metadata": {},
   "outputs": [],
   "source": []
  },
  {
   "cell_type": "code",
   "execution_count": 193,
   "id": "af775598",
   "metadata": {},
   "outputs": [
    {
     "data": {
      "text/plain": [
       "array([ 3.3754652e+00, -3.7927258e-01, -4.8719168e+00, -2.6084695e+00,\n",
       "       -7.1993977e-01, -7.9361033e+00,  1.8609279e+00,  2.4044971e+00,\n",
       "        1.9143677e+01,  1.5862256e-02,  6.4720826e+00,  3.8068879e+00,\n",
       "        1.8473673e-01,  6.1632519e+00, -1.1155076e+00, -7.7865272e+00,\n",
       "        1.6377385e+00,  5.5560684e-01, -5.4366021e+00, -5.2085934e+00,\n",
       "       -3.4312978e+00, -7.0811324e+00,  1.1280884e+00, -7.3038464e+00,\n",
       "        6.6832972e+00, -6.0992947e+00,  7.1232395e+00, -2.5983963e+00,\n",
       "       -1.0382447e+00, -4.6392264e+00, -4.7590053e-01,  3.1114047e+00],\n",
       "      dtype=float32)"
      ]
     },
     "execution_count": 193,
     "metadata": {},
     "output_type": "execute_result"
    }
   ],
   "source": [
    "item_features[2]"
   ]
  },
  {
   "cell_type": "code",
   "execution_count": 191,
   "id": "6edd4372",
   "metadata": {},
   "outputs": [
    {
     "data": {
      "text/plain": [
       "array([ 25.22247  ,  21.398726 ,  12.62267  , -10.476968 , -23.926529 ,\n",
       "        -8.027167 ,  -6.345813 ,  -6.6771603, -15.454178 , -13.822042 ,\n",
       "       -22.758373 ,  13.896782 , -20.89576  ,  12.575991 , -30.92725  ,\n",
       "       -21.461695 ,  22.819359 ,  42.238388 , -12.84318  ,   5.525145 ,\n",
       "         8.397047 , -32.996742 ,   6.3056808, -19.890253 , -40.81788  ,\n",
       "       -37.61041  ,  14.808543 ,  -9.588385 ,  10.831623 ,  13.416864 ,\n",
       "         1.5749574,  23.257198 ], dtype=float32)"
      ]
     },
     "execution_count": 191,
     "metadata": {},
     "output_type": "execute_result"
    }
   ],
   "source": [
    "item_features[2]"
   ]
  },
  {
   "cell_type": "code",
   "execution_count": 51,
   "id": "40593584",
   "metadata": {},
   "outputs": [],
   "source": [
    "# item_features = item_encoder(items).numpy()\n",
    "# item_features = np.load('con_item_final2.npy')\n",
    "item_features = np.load('con_item_final2.npy')\n",
    "\n",
    "\n",
    "\n",
    "set_seeds()\n",
    "itsne = TSNE(n_components=2).fit_transform(tf.gather(item_features, our_interest_idx.values))\n",
    "# extract x and y coordinates representing the positions of the images on T-SNE plot # , n_iter=5000, perplexity=100\n",
    "tx = itsne[:, 0]\n",
    "ty = itsne[:, 1]\n",
    " \n",
    "tx = scale_to_01_range(tx)\n",
    "ty = scale_to_01_range(ty)"
   ]
  },
  {
   "cell_type": "code",
   "execution_count": 52,
   "id": "51265e47",
   "metadata": {},
   "outputs": [],
   "source": [
    "genres = ['unknown', 'Action', 'Adventure', 'Animation',\n",
    "              \"Children's\", \"Comedy\", \"Crime\", \"Documentary\", \"Drama\", \"Fantasy\",\n",
    "              \"Film-Noir\", \"Horror\", \"Musical\", \"Mystery\", \"Romance\", \"Sci-Fi\",\n",
    "              \"Thriller\", \"War\", \"Western\"]"
   ]
  },
  {
   "cell_type": "code",
   "execution_count": 53,
   "id": "d93c3a13",
   "metadata": {},
   "outputs": [],
   "source": [
    "item_info['total_g'] = item_info.iloc[:,1:20].sum(axis=1)"
   ]
  },
  {
   "cell_type": "code",
   "execution_count": 54,
   "id": "d91e8f22",
   "metadata": {},
   "outputs": [],
   "source": [
    "our_interest_idx = item_info.index[item_info['total_g'] == 1]"
   ]
  },
  {
   "cell_type": "code",
   "execution_count": 55,
   "id": "9cea966e",
   "metadata": {},
   "outputs": [],
   "source": [
    "our_interest = np.take(item_features, our_interest_idx.values, axis=0)"
   ]
  },
  {
   "cell_type": "code",
   "execution_count": 56,
   "id": "0d32021f",
   "metadata": {
    "scrolled": false
   },
   "outputs": [],
   "source": [
    "labels = item_info.iloc[our_interest_idx].iloc[:, 1:20].idxmax(axis=1)"
   ]
  },
  {
   "cell_type": "code",
   "execution_count": 57,
   "id": "62d9b518",
   "metadata": {},
   "outputs": [],
   "source": [
    "cm = plt.cm.get_cmap('tab20')"
   ]
  },
  {
   "cell_type": "code",
   "execution_count": 58,
   "id": "181c494b",
   "metadata": {},
   "outputs": [
    {
     "data": {
      "text/plain": [
       "<matplotlib.legend.Legend at 0x7fc69b31c4c0>"
      ]
     },
     "execution_count": 58,
     "metadata": {},
     "output_type": "execute_result"
    },
    {
     "data": {
      "image/png": "[encoded data removed]",
      "text/plain": [
       "<Figure size 1000x600 with 1 Axes>"
      ]
     },
     "metadata": {
      "needs_background": "light"
     },
     "output_type": "display_data"
    }
   ],
   "source": [
    "# initialize a matplotlib plot\n",
    "fig = plt.figure(figsize=(10, 6), dpi=100)\n",
    "ax = fig.add_subplot(111)\n",
    "\n",
    "\n",
    "\n",
    "# # for every class, we'll add a scatter plot separately\n",
    "for idx, label in enumerate(genres):\n",
    "#     if label in ['Fantasy', 'Crime']:\n",
    "#         continue\n",
    "    # find the samples of the current class in the data\n",
    "    indices = [i for i, l in enumerate(labels) if l == label]\n",
    "#     print(len(indices))\n",
    " \n",
    "    # extract the coordinates of the points of this class only\n",
    "    current_tx = np.take(tx, indices)\n",
    "    current_ty = np.take(ty, indices)\n",
    " \n",
    "    # convert the class color to matplotlib format\n",
    "#     color = np.array(colors_per_class[label], dtype=np.float) / 255\n",
    " \n",
    "    # add a scatter plot with the corresponding color and label\n",
    "    ax.scatter(current_tx, current_ty, label=label, color=cm.colors[idx])\n",
    "\n",
    "box = ax.get_position()\n",
    "ax.set_position([box.x0, box.y0, box.width * 0.8, box.height])\n",
    "\n",
    "# build a legend using the labels we set previously\n",
    "ax.legend(loc='center left', bbox_to_anchor=(1, 0.5))\n",
    "\n",
    "\n",
    "\n"
   ]
  },
  {
   "cell_type": "code",
   "execution_count": 60,
   "id": "8ebcb509",
   "metadata": {},
   "outputs": [],
   "source": [
    "fig.savefig('item_embeddings_final_20221227.pdf')  "
   ]
  },
  {
   "cell_type": "code",
   "execution_count": 246,
   "id": "5ba30002",
   "metadata": {},
   "outputs": [
    {
     "data": {
      "text/plain": [
       "<matplotlib.legend.Legend at 0x7f29b8cef850>"
      ]
     },
     "execution_count": 246,
     "metadata": {},
     "output_type": "execute_result"
    },
    {
     "data": {
      "image/png": "[encoded data removed]",
      "text/plain": [
       "<Figure size 1000x600 with 1 Axes>"
      ]
     },
     "metadata": {
      "needs_background": "light"
     },
     "output_type": "display_data"
    }
   ],
   "source": [
    "# initialize a matplotlib plot\n",
    "fig = plt.figure(figsize=(10, 6), dpi=100)\n",
    "ax = fig.add_subplot(111)\n",
    "\n",
    "\n",
    "\n",
    "# # for every class, we'll add a scatter plot separately\n",
    "for idx, label in enumerate(genres):\n",
    "#     if label in ['Fantasy', 'Crime']:\n",
    "#         continue\n",
    "    # find the samples of the current class in the data\n",
    "    indices = [i for i, l in enumerate(labels) if l == label]\n",
    "#     print(len(indices))\n",
    " \n",
    "    # extract the coordinates of the points of this class only\n",
    "    current_tx = np.take(tx, indices)\n",
    "    current_ty = np.take(ty, indices)\n",
    " \n",
    "    # convert the class color to matplotlib format\n",
    "#     color = np.array(colors_per_class[label], dtype=np.float) / 255\n",
    " \n",
    "    # add a scatter plot with the corresponding color and label\n",
    "    ax.scatter(current_tx, current_ty, label=label, color=cm.colors[idx])\n",
    "\n",
    "box = ax.get_position()\n",
    "ax.set_position([box.x0, box.y0, box.width * 0.8, box.height])\n",
    "\n",
    "# build a legend using the labels we set previously\n",
    "ax.legend(loc='center left', bbox_to_anchor=(1, 0.5))\n",
    "\n",
    "\n"
   ]
  },
  {
   "cell_type": "code",
   "execution_count": null,
   "id": "b3cd7a90",
   "metadata": {},
   "outputs": [],
   "source": []
  },
  {
   "cell_type": "code",
   "execution_count": 189,
   "id": "357781bc",
   "metadata": {},
   "outputs": [
    {
     "data": {
      "text/plain": [
       "<matplotlib.legend.Legend at 0x7f294c0bc970>"
      ]
     },
     "execution_count": 189,
     "metadata": {},
     "output_type": "execute_result"
    },
    {
     "data": {
      "image/png": "[encoded data removed]",
      "text/plain": [
       "<Figure size 1000x600 with 1 Axes>"
      ]
     },
     "metadata": {
      "needs_background": "light"
     },
     "output_type": "display_data"
    }
   ],
   "source": [
    "# initialize a matplotlib plot\n",
    "fig = plt.figure(figsize=(10, 6), dpi=100)\n",
    "ax = fig.add_subplot(111)\n",
    "\n",
    "\n",
    "\n",
    "# # for every class, we'll add a scatter plot separately\n",
    "for idx, label in enumerate(genres):\n",
    "#     if label in ['Fantasy', 'Crime']:\n",
    "#         continue\n",
    "    # find the samples of the current class in the data\n",
    "    indices = [i for i, l in enumerate(labels) if l == label]\n",
    "#     print(len(indices))\n",
    " \n",
    "    # extract the coordinates of the points of this class only\n",
    "    current_tx = np.take(tx, indices)\n",
    "    current_ty = np.take(ty, indices)\n",
    " \n",
    "    # convert the class color to matplotlib format\n",
    "#     color = np.array(colors_per_class[label], dtype=np.float) / 255\n",
    " \n",
    "    # add a scatter plot with the corresponding color and label\n",
    "    ax.scatter(current_tx, current_ty, label=label, color=cm.colors[idx])\n",
    "\n",
    "box = ax.get_position()\n",
    "ax.set_position([box.x0, box.y0, box.width * 0.8, box.height])\n",
    "\n",
    "# build a legend using the labels we set previously\n",
    "ax.legend(loc='center left', bbox_to_anchor=(1, 0.5))\n",
    "\n"
   ]
  },
  {
   "cell_type": "code",
   "execution_count": 141,
   "id": "7feca7eb",
   "metadata": {
    "scrolled": false
   },
   "outputs": [
    {
     "data": {
      "text/plain": [
       "<matplotlib.legend.Legend at 0x7f294cead6d0>"
      ]
     },
     "execution_count": 141,
     "metadata": {},
     "output_type": "execute_result"
    },
    {
     "data": {
      "image/png": "[encoded data removed]",
      "text/plain": [
       "<Figure size 1000x600 with 1 Axes>"
      ]
     },
     "metadata": {
      "needs_background": "light"
     },
     "output_type": "display_data"
    }
   ],
   "source": [
    "# initialize a matplotlib plot\n",
    "fig = plt.figure(figsize=(10, 6), dpi=100)\n",
    "ax = fig.add_subplot(111)\n",
    "\n",
    "\n",
    "\n",
    "# # for every class, we'll add a scatter plot separately\n",
    "for idx, label in enumerate(genres):\n",
    "#     if label in ['Fantasy', 'Crime']:\n",
    "#         continue\n",
    "    # find the samples of the current class in the data\n",
    "    indices = [i for i, l in enumerate(labels) if l == label]\n",
    "#     print(len(indices))\n",
    " \n",
    "    # extract the coordinates of the points of this class only\n",
    "    current_tx = np.take(tx, indices)\n",
    "    current_ty = np.take(ty, indices)\n",
    " \n",
    "    # convert the class color to matplotlib format\n",
    "#     color = np.array(colors_per_class[label], dtype=np.float) / 255\n",
    " \n",
    "    # add a scatter plot with the corresponding color and label\n",
    "    ax.scatter(current_tx, current_ty, label=label, color=cm.colors[idx])\n",
    "\n",
    "box = ax.get_position()\n",
    "ax.set_position([box.x0, box.y0, box.width * 0.8, box.height])\n",
    "\n",
    "# build a legend using the labels we set previously\n",
    "ax.legend(loc='center left', bbox_to_anchor=(1, 0.5))\n"
   ]
  },
  {
   "cell_type": "code",
   "execution_count": null,
   "id": "f0e86a94",
   "metadata": {},
   "outputs": [],
   "source": []
  },
  {
   "cell_type": "code",
   "execution_count": 364,
   "id": "c23d740e",
   "metadata": {},
   "outputs": [
    {
     "ename": "ValueError",
     "evalue": "Received incompatible tensor with shape (32,) when attempting to restore variable with shape (1024,) and name layer_with_weights-1/bias/.ATTRIBUTES/VARIABLE_VALUE.",
     "output_type": "error",
     "traceback": [
      "\u001b[0;31m---------------------------------------------------------------------------\u001b[0m",
      "\u001b[0;31mValueError\u001b[0m                                Traceback (most recent call last)",
      "Cell \u001b[0;32mIn[364], line 1\u001b[0m\n\u001b[0;32m----> 1\u001b[0m \u001b[43mitem_encoder\u001b[49m\u001b[38;5;241;43m.\u001b[39;49m\u001b[43mload_weights\u001b[49m\u001b[43m(\u001b[49m\u001b[38;5;124;43m'\u001b[39;49m\u001b[38;5;124;43m./checkpoints/item_encoder_cross\u001b[39;49m\u001b[38;5;124;43m'\u001b[39;49m\u001b[43m)\u001b[49m\n",
      "File \u001b[0;32m~/miniconda3/envs/movielens/lib/python3.9/site-packages/keras/utils/traceback_utils.py:70\u001b[0m, in \u001b[0;36mfilter_traceback.<locals>.error_handler\u001b[0;34m(*args, **kwargs)\u001b[0m\n\u001b[1;32m     67\u001b[0m     filtered_tb \u001b[38;5;241m=\u001b[39m _process_traceback_frames(e\u001b[38;5;241m.\u001b[39m__traceback__)\n\u001b[1;32m     68\u001b[0m     \u001b[38;5;66;03m# To get the full stack trace, call:\u001b[39;00m\n\u001b[1;32m     69\u001b[0m     \u001b[38;5;66;03m# `tf.debugging.disable_traceback_filtering()`\u001b[39;00m\n\u001b[0;32m---> 70\u001b[0m     \u001b[38;5;28;01mraise\u001b[39;00m e\u001b[38;5;241m.\u001b[39mwith_traceback(filtered_tb) \u001b[38;5;28;01mfrom\u001b[39;00m \u001b[38;5;28mNone\u001b[39m\n\u001b[1;32m     71\u001b[0m \u001b[38;5;28;01mfinally\u001b[39;00m:\n\u001b[1;32m     72\u001b[0m     \u001b[38;5;28;01mdel\u001b[39;00m filtered_tb\n",
      "File \u001b[0;32m~/miniconda3/envs/movielens/lib/python3.9/site-packages/tensorflow/python/training/saving/saveable_object_util.py:139\u001b[0m, in \u001b[0;36mResourceVariableSaveable.restore\u001b[0;34m(self, restored_tensors, restored_shapes)\u001b[0m\n\u001b[1;32m    136\u001b[0m   assigned_variable \u001b[38;5;241m=\u001b[39m resource_variable_ops\u001b[38;5;241m.\u001b[39mshape_safe_assign_variable_handle(\n\u001b[1;32m    137\u001b[0m       \u001b[38;5;28mself\u001b[39m\u001b[38;5;241m.\u001b[39mhandle_op, \u001b[38;5;28mself\u001b[39m\u001b[38;5;241m.\u001b[39m_var_shape, restored_tensor)\n\u001b[1;32m    138\u001b[0m \u001b[38;5;28;01mexcept\u001b[39;00m \u001b[38;5;167;01mValueError\u001b[39;00m \u001b[38;5;28;01mas\u001b[39;00m e:\n\u001b[0;32m--> 139\u001b[0m   \u001b[38;5;28;01mraise\u001b[39;00m \u001b[38;5;167;01mValueError\u001b[39;00m(\n\u001b[1;32m    140\u001b[0m       \u001b[38;5;124mf\u001b[39m\u001b[38;5;124m\"\u001b[39m\u001b[38;5;124mReceived incompatible tensor with shape \u001b[39m\u001b[38;5;132;01m{\u001b[39;00mrestored_tensor\u001b[38;5;241m.\u001b[39mshape\u001b[38;5;132;01m}\u001b[39;00m\u001b[38;5;124m \u001b[39m\u001b[38;5;124m\"\u001b[39m\n\u001b[1;32m    141\u001b[0m       \u001b[38;5;124mf\u001b[39m\u001b[38;5;124m\"\u001b[39m\u001b[38;5;124mwhen attempting to restore variable with shape \u001b[39m\u001b[38;5;132;01m{\u001b[39;00m\u001b[38;5;28mself\u001b[39m\u001b[38;5;241m.\u001b[39m_var_shape\u001b[38;5;132;01m}\u001b[39;00m\u001b[38;5;124m \u001b[39m\u001b[38;5;124m\"\u001b[39m\n\u001b[1;32m    142\u001b[0m       \u001b[38;5;124mf\u001b[39m\u001b[38;5;124m\"\u001b[39m\u001b[38;5;124mand name \u001b[39m\u001b[38;5;132;01m{\u001b[39;00m\u001b[38;5;28mself\u001b[39m\u001b[38;5;241m.\u001b[39mname\u001b[38;5;132;01m}\u001b[39;00m\u001b[38;5;124m.\u001b[39m\u001b[38;5;124m\"\u001b[39m) \u001b[38;5;28;01mfrom\u001b[39;00m \u001b[38;5;21;01me\u001b[39;00m\n\u001b[1;32m    143\u001b[0m \u001b[38;5;28;01mreturn\u001b[39;00m assigned_variable\n",
      "\u001b[0;31mValueError\u001b[0m: Received incompatible tensor with shape (32,) when attempting to restore variable with shape (1024,) and name layer_with_weights-1/bias/.ATTRIBUTES/VARIABLE_VALUE."
     ]
    }
   ],
   "source": [
    "item_encoder.load_weights('./checkpoints/item_encoder_cross')"
   ]
  },
  {
   "cell_type": "code",
   "execution_count": null,
   "id": "9ecb8ef0",
   "metadata": {
    "scrolled": true
   },
   "outputs": [],
   "source": [
    "tf.math.sigmoid(model.predict([user[:8], item[:8]]))"
   ]
  },
  {
   "cell_type": "code",
   "execution_count": 63,
   "id": "c4124d55",
   "metadata": {},
   "outputs": [
    {
     "data": {
      "text/plain": [
       "0    0.500000\n",
       "1    0.500000\n",
       "2    0.017986\n",
       "3    0.119203\n",
       "4    0.017986\n",
       "5    0.880797\n",
       "6    0.119203\n",
       "7    0.982014\n",
       "Name: rating, dtype: float64"
      ]
     },
     "execution_count": 63,
     "metadata": {},
     "output_type": "execute_result"
    }
   ],
   "source": [
    "rating_df['rating'][:8]"
   ]
  },
  {
   "cell_type": "code",
   "execution_count": null,
   "id": "794e21ea",
   "metadata": {},
   "outputs": [],
   "source": []
  }
 ],
 "metadata": {
  "kernelspec": {
   "display_name": "Python 3",
   "language": "python",
   "name": "python3"
  },
  "language_info": {
   "codemirror_mode": {
    "name": "ipython",
    "version": 3
   },
   "file_extension": ".py",
   "mimetype": "text/x-python",
   "name": "python",
   "nbconvert_exporter": "python",
   "pygments_lexer": "ipython3",
   "version": "3.9.15"
  }
 },
 "nbformat": 4,
 "nbformat_minor": 5
}
